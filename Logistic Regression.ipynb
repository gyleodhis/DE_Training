{
 "cells": [
  {
   "cell_type": "markdown",
   "metadata": {},
   "source": [
    "# Logistic Regression with Apache Spark\n",
    "### gyleodhis@outlook.com\n",
    "### [@gyleodhis](https://www.twitter.com/gyleodhis)\n",
    "### ![@gyleodhis](./data/gyle.jpg)\n",
    "#### Licence:\n",
    "You can use this code for anything you may wish only leave this page:\n",
    "#### AS IS; HOW IS, WHERE IS"
   ]
  },
  {
   "cell_type": "code",
   "execution_count": 1,
   "metadata": {},
   "outputs": [],
   "source": [
    "from pyspark.sql import SparkSession\n",
    "import pandas as pd\n",
    "spark=SparkSession.builder.appName('Logistic Regression').getOrCreate()"
   ]
  },
  {
   "cell_type": "markdown",
   "metadata": {},
   "source": [
    "### One major use of logistic regression is to predict whether a user will purchase a product or not.\n",
    "We can look at is as the chances of occurrence of a desired event or interested outcomes upon all possible outcomes"
   ]
  },
  {
   "cell_type": "code",
   "execution_count": 2,
   "metadata": {},
   "outputs": [
    {
     "data": {
      "text/plain": [
       "['Country', 'Age', 'Repeat_Visitor', 'Platform', 'Web_pages_viewed', 'Status']"
      ]
     },
     "execution_count": 2,
     "metadata": {},
     "output_type": "execute_result"
    }
   ],
   "source": [
    "# Here we will use dome dummy web data.\n",
    "web = spark.read.csv(\"./data/Log_Reg_dataset.csv\", inferSchema=True, header=True)\n",
    "web.columns # Let us chech the names of the columns in the dataset."
   ]
  },
  {
   "cell_type": "code",
   "execution_count": 21,
   "metadata": {},
   "outputs": [
    {
     "name": "stdout",
     "output_type": "stream",
     "text": [
      "(20000, 9)\n"
     ]
    }
   ],
   "source": [
    "print((web.count(),len(web.columns)))"
   ]
  },
  {
   "cell_type": "markdown",
   "metadata": {},
   "source": [
    "### Column Datatype checking and casting\n",
    "we now validate the datatypes of the input values to check if we need to change/ cast any columns datatypes."
   ]
  },
  {
   "cell_type": "code",
   "execution_count": 5,
   "metadata": {},
   "outputs": [
    {
     "name": "stdout",
     "output_type": "stream",
     "text": [
      "root\n",
      " |-- Country: string (nullable = true)\n",
      " |-- Age: integer (nullable = true)\n",
      " |-- Repeat_Visitor: integer (nullable = true)\n",
      " |-- Platform: string (nullable = true)\n",
      " |-- Web_pages_viewed: integer (nullable = true)\n",
      " |-- Status: integer (nullable = true)\n",
      "\n"
     ]
    }
   ],
   "source": [
    "web.printSchema()"
   ]
  },
  {
   "cell_type": "code",
   "execution_count": 7,
   "metadata": {},
   "outputs": [
    {
     "name": "stdout",
     "output_type": "stream",
     "text": [
      "+---------+---+--------------+--------+----------------+------+\n",
      "|  Country|Age|Repeat_Visitor|Platform|Web_pages_viewed|Status|\n",
      "+---------+---+--------------+--------+----------------+------+\n",
      "|    India| 41|             1|   Yahoo|              21|     1|\n",
      "|   Brazil| 28|             1|   Yahoo|               5|     0|\n",
      "|   Brazil| 40|             0|  Google|               3|     0|\n",
      "|Indonesia| 31|             1|    Bing|              15|     1|\n",
      "| Malaysia| 32|             0|  Google|              15|     1|\n",
      "|   Brazil| 32|             0|  Google|               3|     0|\n",
      "|   Brazil| 32|             0|  Google|               6|     0|\n",
      "|Indonesia| 27|             0|  Google|               9|     0|\n",
      "|Indonesia| 32|             0|   Yahoo|               2|     0|\n",
      "|Indonesia| 31|             1|    Bing|              16|     1|\n",
      "| Malaysia| 27|             1|  Google|              21|     1|\n",
      "|Indonesia| 29|             1|   Yahoo|               9|     1|\n",
      "|Indonesia| 33|             1|   Yahoo|              20|     1|\n",
      "|Indonesia| 35|             0|    Bing|               2|     0|\n",
      "|    India| 27|             1|   Yahoo|              21|     1|\n",
      "|Indonesia| 35|             0|    Bing|               2|     0|\n",
      "|Indonesia| 19|             1|   Yahoo|              17|     1|\n",
      "|Indonesia| 17|             1|   Yahoo|              13|     1|\n",
      "| Malaysia| 46|             0|   Yahoo|               5|     0|\n",
      "|Indonesia| 24|             0|  Google|               7|     0|\n",
      "+---------+---+--------------+--------+----------------+------+\n",
      "only showing top 20 rows\n",
      "\n"
     ]
    }
   ],
   "source": [
    "web.show()"
   ]
  },
  {
   "cell_type": "code",
   "execution_count": 8,
   "metadata": {},
   "outputs": [
    {
     "name": "stdout",
     "output_type": "stream",
     "text": [
      "+-------+--------+-----------------+-----------------+--------+-----------------+------------------+\n",
      "|summary| Country|              Age|   Repeat_Visitor|Platform| Web_pages_viewed|            Status|\n",
      "+-------+--------+-----------------+-----------------+--------+-----------------+------------------+\n",
      "|  count|   20000|            20000|            20000|   20000|            20000|             20000|\n",
      "|   mean|    null|         28.53955|           0.5029|    null|           9.5533|               0.5|\n",
      "| stddev|    null|7.888912950773227|0.500004090187782|    null|6.073903499824976|0.5000125004687693|\n",
      "|    min|  Brazil|               17|                0|    Bing|                1|                 0|\n",
      "|    max|Malaysia|              111|                1|   Yahoo|               29|                 1|\n",
      "+-------+--------+-----------------+-----------------+--------+-----------------+------------------+\n",
      "\n"
     ]
    }
   ],
   "source": [
    "web.describe().show() # A brief statistical description of the columns."
   ]
  },
  {
   "cell_type": "markdown",
   "metadata": {},
   "source": [
    "We can observe that the average age of visitors is close to 28 years, and they view around 9 web pages during the website visit."
   ]
  },
  {
   "cell_type": "code",
   "execution_count": 9,
   "metadata": {},
   "outputs": [
    {
     "name": "stdout",
     "output_type": "stream",
     "text": [
      "+---+-----+\n",
      "|Age|count|\n",
      "+---+-----+\n",
      "| 63|    1|\n",
      "| 62|    1|\n",
      "| 65|    1|\n",
      "|111|    1|\n",
      "| 59|    3|\n",
      "| 56|    4|\n",
      "| 60|    4|\n",
      "| 58|    5|\n",
      "| 61|    5|\n",
      "| 57|    9|\n",
      "| 53|   14|\n",
      "| 55|   14|\n",
      "| 54|   18|\n",
      "| 52|   32|\n",
      "| 51|   39|\n",
      "| 50|   48|\n",
      "| 49|   51|\n",
      "| 48|   98|\n",
      "| 47|  100|\n",
      "| 46|  125|\n",
      "+---+-----+\n",
      "only showing top 20 rows\n",
      "\n"
     ]
    }
   ],
   "source": [
    "web.groupBy('Age').count().orderBy('count', ascending=True).show() # categories visitors based on age in ascending order"
   ]
  },
  {
   "cell_type": "markdown",
   "metadata": {},
   "source": [
    "## Which country has maximum number of visitors"
   ]
  },
  {
   "cell_type": "code",
   "execution_count": 10,
   "metadata": {},
   "outputs": [
    {
     "name": "stdout",
     "output_type": "stream",
     "text": [
      "+---------+-----+\n",
      "|  Country|count|\n",
      "+---------+-----+\n",
      "| Malaysia| 1218|\n",
      "|    India| 4018|\n",
      "|Indonesia|12178|\n",
      "|   Brazil| 2586|\n",
      "+---------+-----+\n",
      "\n"
     ]
    }
   ],
   "source": [
    "web.groupBy(\"Country\").count().show()"
   ]
  },
  {
   "cell_type": "markdown",
   "metadata": {},
   "source": [
    "#### We can see that most of our visitors come from Indonesia."
   ]
  },
  {
   "cell_type": "markdown",
   "metadata": {},
   "source": [
    "### Which search engine bings in more visitors."
   ]
  },
  {
   "cell_type": "code",
   "execution_count": 11,
   "metadata": {},
   "outputs": [
    {
     "name": "stdout",
     "output_type": "stream",
     "text": [
      "+--------+-----+\n",
      "|Platform|count|\n",
      "+--------+-----+\n",
      "|    Bing| 4360|\n",
      "|  Google| 5781|\n",
      "|   Yahoo| 9859|\n",
      "+--------+-----+\n",
      "\n"
     ]
    }
   ],
   "source": [
    "web.groupBy(\"Platform\").count().orderBy(\"count\", ascending=True).show() # Clearly Yahoo leads the way."
   ]
  },
  {
   "cell_type": "code",
   "execution_count": 12,
   "metadata": {},
   "outputs": [
    {
     "name": "stdout",
     "output_type": "stream",
     "text": [
      "+------+--------+-------------------+---------------------+-----------+\n",
      "|Status|avg(Age)|avg(Repeat_Visitor)|avg(Web_pages_viewed)|avg(Status)|\n",
      "+------+--------+-------------------+---------------------+-----------+\n",
      "|     1| 26.5435|             0.7019|              14.5617|        1.0|\n",
      "|     0| 30.5356|             0.3039|               4.5449|        0.0|\n",
      "+------+--------+-------------------+---------------------+-----------+\n",
      "\n"
     ]
    }
   ],
   "source": [
    "web.groupBy(\"Status\").mean().show()"
   ]
  },
  {
   "cell_type": "markdown",
   "metadata": {},
   "source": [
    "#### From the above results it is very clear that the visitors who ended up with a purchase viewd many pages."
   ]
  },
  {
   "cell_type": "markdown",
   "metadata": {},
   "source": [
    "### Now let us see how many visitors bought products and how many turned away."
   ]
  },
  {
   "cell_type": "code",
   "execution_count": 13,
   "metadata": {},
   "outputs": [
    {
     "name": "stdout",
     "output_type": "stream",
     "text": [
      "+------+-----+\n",
      "|Status|count|\n",
      "+------+-----+\n",
      "|     1|10000|\n",
      "|     0|10000|\n",
      "+------+-----+\n",
      "\n"
     ]
    }
   ],
   "source": [
    "web.groupBy(\"Status\").count().show()"
   ]
  },
  {
   "cell_type": "code",
   "execution_count": 14,
   "metadata": {},
   "outputs": [
    {
     "name": "stdout",
     "output_type": "stream",
     "text": [
      "+---------+------------------+-------------------+---------------------+--------------------+\n",
      "|  Country|          avg(Age)|avg(Repeat_Visitor)|avg(Web_pages_viewed)|         avg(Status)|\n",
      "+---------+------------------+-------------------+---------------------+--------------------+\n",
      "| Malaysia|27.792282430213465| 0.5730706075533661|   11.192118226600986|  0.6568144499178982|\n",
      "|    India|27.976854156296664| 0.5433051269288203|   10.727227476356397|  0.6212045793927327|\n",
      "|Indonesia| 28.43159796354081| 0.5207751683363442|    9.985711939563148|  0.5422893742814913|\n",
      "|   Brazil|30.274168600154677|  0.322892498066512|    4.921113689095128|0.038669760247486466|\n",
      "+---------+------------------+-------------------+---------------------+--------------------+\n",
      "\n"
     ]
    }
   ],
   "source": [
    "# Average mean statistics per country.\n",
    "web.groupBy(\"Country\").mean().show()"
   ]
  },
  {
   "cell_type": "markdown",
   "metadata": {},
   "source": [
    "##### The above table returns some very interesting statistics. Malaysia leads in repeat visitors same us customers who ended up buying...; While with Brazil is an all time low.\n",
    "##### From the above results it is also clear that the higher the age the lesser the likelyhood of purchase."
   ]
  },
  {
   "cell_type": "markdown",
   "metadata": {},
   "source": [
    "## Feature Engineering\n",
    "Since we are dealing with two categorical columns, we will have to convert the country and search engine columns into numerical form. Our machine learning model cannot understand categorical values."
   ]
  },
  {
   "cell_type": "code",
   "execution_count": 15,
   "metadata": {},
   "outputs": [],
   "source": [
    "from pyspark.ml.feature import StringIndexer\n",
    "from pyspark.ml.feature import VectorAssembler"
   ]
  },
  {
   "cell_type": "markdown",
   "metadata": {},
   "source": [
    "The first step is to label the column using StringIndexer into numerical form. It allocates unique values to each of the categories of the column. So, in the below example, all of the three values of search engine (Yahoo, Google, Bing) are assigned values (0.0,1.0,2.0). This is visible in the column named search_engine_num."
   ]
  },
  {
   "cell_type": "code",
   "execution_count": 16,
   "metadata": {},
   "outputs": [
    {
     "name": "stdout",
     "output_type": "stream",
     "text": [
      "+-------+---+--------------+--------+----------------+------+--------------+\n",
      "|Country|Age|Repeat_Visitor|Platform|Web_pages_viewed|Status|Country Number|\n",
      "+-------+---+--------------+--------+----------------+------+--------------+\n",
      "|  India| 41|             1|   Yahoo|              21|     1|           1.0|\n",
      "| Brazil| 28|             1|   Yahoo|               5|     0|           2.0|\n",
      "| Brazil| 40|             0|  Google|               3|     0|           2.0|\n",
      "+-------+---+--------------+--------+----------------+------+--------------+\n",
      "only showing top 3 rows\n",
      "\n"
     ]
    }
   ],
   "source": [
    "country_indexer = StringIndexer(inputCol=\"Country\", outputCol = \"Country Number\").fit(web)\n",
    "web = country_indexer.transform(web)\n",
    "web.show(3)"
   ]
  },
  {
   "cell_type": "code",
   "execution_count": 17,
   "metadata": {},
   "outputs": [
    {
     "name": "stdout",
     "output_type": "stream",
     "text": [
      "+-------+---+--------------+--------+----------------+------+--------------+---------------+\n",
      "|Country|Age|Repeat_Visitor|Platform|Web_pages_viewed|Status|Country Number|Platform Number|\n",
      "+-------+---+--------------+--------+----------------+------+--------------+---------------+\n",
      "|  India| 41|             1|   Yahoo|              21|     1|           1.0|            0.0|\n",
      "| Brazil| 28|             1|   Yahoo|               5|     0|           2.0|            0.0|\n",
      "| Brazil| 40|             0|  Google|               3|     0|           2.0|            1.0|\n",
      "+-------+---+--------------+--------+----------------+------+--------------+---------------+\n",
      "only showing top 3 rows\n",
      "\n"
     ]
    }
   ],
   "source": [
    "search_engine_indexer = StringIndexer(inputCol=\"Platform\", outputCol=\"Platform Number\").fit(web)\n",
    "web = search_engine_indexer.transform(web)\n",
    "web.show(3)"
   ]
  },
  {
   "cell_type": "markdown",
   "metadata": {},
   "source": [
    "The next step is to represent each of these values into the form of a one hot encoded vector. However, this vector is a little different in terms of representation as it captures the values and position of the values in the vector"
   ]
  },
  {
   "cell_type": "code",
   "execution_count": 18,
   "metadata": {},
   "outputs": [
    {
     "name": "stdout",
     "output_type": "stream",
     "text": [
      "+---------+---+--------------+--------+----------------+------+--------------+---------------+---------------+\n",
      "|  Country|Age|Repeat_Visitor|Platform|Web_pages_viewed|Status|Country Number|Platform Number|Platform Vector|\n",
      "+---------+---+--------------+--------+----------------+------+--------------+---------------+---------------+\n",
      "|    India| 41|             1|   Yahoo|              21|     1|           1.0|            0.0|  (2,[0],[1.0])|\n",
      "|   Brazil| 28|             1|   Yahoo|               5|     0|           2.0|            0.0|  (2,[0],[1.0])|\n",
      "|   Brazil| 40|             0|  Google|               3|     0|           2.0|            1.0|  (2,[1],[1.0])|\n",
      "|Indonesia| 31|             1|    Bing|              15|     1|           0.0|            2.0|      (2,[],[])|\n",
      "| Malaysia| 32|             0|  Google|              15|     1|           3.0|            1.0|  (2,[1],[1.0])|\n",
      "+---------+---+--------------+--------+----------------+------+--------------+---------------+---------------+\n",
      "only showing top 5 rows\n",
      "\n"
     ]
    }
   ],
   "source": [
    "from pyspark.ml.feature import OneHotEncoder\n",
    "platform_encoder = OneHotEncoder(inputCol=\"Platform Number\", outputCol=\"Platform Vector\")\n",
    "web = platform_encoder.transform(web)\n",
    "web.show(5)"
   ]
  },
  {
   "cell_type": "code",
   "execution_count": 19,
   "metadata": {},
   "outputs": [
    {
     "name": "stdout",
     "output_type": "stream",
     "text": [
      "+---------------+-----+\n",
      "|Platform Vector|count|\n",
      "+---------------+-----+\n",
      "|      (2,[],[])| 4360|\n",
      "|  (2,[1],[1.0])| 5781|\n",
      "|  (2,[0],[1.0])| 9859|\n",
      "+---------------+-----+\n",
      "\n"
     ]
    }
   ],
   "source": [
    "web.groupBy(\"Platform Vector\").count().orderBy(\"count\", ascending=True).show()"
   ]
  },
  {
   "cell_type": "markdown",
   "metadata": {},
   "source": [
    "### Meaning of the Vectors in the Platform Vector\n",
    "(2,[0],[1.0]) represents a vector of length 2 , with 1 value :\n",
    "    Size of Vector – 2\n",
    "    Value contained in vector – 1.0\n",
    "    Position of 1.0 value in vector – 0th place"
   ]
  },
  {
   "cell_type": "markdown",
   "metadata": {},
   "source": [
    "### Let’s repeat the same procedure for the other categorical column (Country)."
   ]
  },
  {
   "cell_type": "code",
   "execution_count": 24,
   "metadata": {},
   "outputs": [
    {
     "name": "stdout",
     "output_type": "stream",
     "text": [
      "+---------+-----+\n",
      "|Country  |count|\n",
      "+---------+-----+\n",
      "|Malaysia |1218 |\n",
      "|Brazil   |2586 |\n",
      "|India    |4018 |\n",
      "|Indonesia|12178|\n",
      "+---------+-----+\n",
      "\n"
     ]
    }
   ],
   "source": [
    "#country_indexer = StringIndexer(inputCol=\"Country\",\n",
    "#outputCol=\"Country Number\").fit(web)\n",
    "#web = country_indexer.transform(web)\n",
    "web.groupBy('Country').count().orderBy('count',ascending=True).show(5,False)"
   ]
  },
  {
   "cell_type": "code",
   "execution_count": 26,
   "metadata": {},
   "outputs": [
    {
     "name": "stdout",
     "output_type": "stream",
     "text": [
      "+--------------+-----+\n",
      "|Country Number|count|\n",
      "+--------------+-----+\n",
      "|           0.0|12178|\n",
      "|           1.0| 4018|\n",
      "|           2.0| 2586|\n",
      "|           3.0| 1218|\n",
      "+--------------+-----+\n",
      "\n"
     ]
    }
   ],
   "source": [
    "web.groupBy('Country Number').count().orderBy('count', ascending=False).show()"
   ]
  },
  {
   "cell_type": "code",
   "execution_count": 30,
   "metadata": {},
   "outputs": [
    {
     "name": "stdout",
     "output_type": "stream",
     "text": [
      "+---------+--------------+--------------+\n",
      "|  Country|Country Number|Country Vector|\n",
      "+---------+--------------+--------------+\n",
      "|    India|           1.0| (3,[1],[1.0])|\n",
      "|   Brazil|           2.0| (3,[2],[1.0])|\n",
      "|   Brazil|           2.0| (3,[2],[1.0])|\n",
      "|Indonesia|           0.0| (3,[0],[1.0])|\n",
      "| Malaysia|           3.0|     (3,[],[])|\n",
      "|   Brazil|           2.0| (3,[2],[1.0])|\n",
      "|   Brazil|           2.0| (3,[2],[1.0])|\n",
      "|Indonesia|           0.0| (3,[0],[1.0])|\n",
      "|Indonesia|           0.0| (3,[0],[1.0])|\n",
      "|Indonesia|           0.0| (3,[0],[1.0])|\n",
      "| Malaysia|           3.0|     (3,[],[])|\n",
      "|Indonesia|           0.0| (3,[0],[1.0])|\n",
      "|Indonesia|           0.0| (3,[0],[1.0])|\n",
      "|Indonesia|           0.0| (3,[0],[1.0])|\n",
      "|    India|           1.0| (3,[1],[1.0])|\n",
      "|Indonesia|           0.0| (3,[0],[1.0])|\n",
      "|Indonesia|           0.0| (3,[0],[1.0])|\n",
      "|Indonesia|           0.0| (3,[0],[1.0])|\n",
      "| Malaysia|           3.0|     (3,[],[])|\n",
      "|Indonesia|           0.0| (3,[0],[1.0])|\n",
      "+---------+--------------+--------------+\n",
      "only showing top 20 rows\n",
      "\n"
     ]
    }
   ],
   "source": [
    "#country_encoder = OneHotEncoder(inputCol=\"Country Number\", outputCol=\"Country Vector\")\n",
    "#web = country_encoder.transform(web)\n",
    "web.select(['Country','Country Number','Country Vector']).show()"
   ]
  },
  {
   "cell_type": "code",
   "execution_count": 33,
   "metadata": {},
   "outputs": [
    {
     "name": "stdout",
     "output_type": "stream",
     "text": [
      "+--------------+-----+\n",
      "|Country Vector|count|\n",
      "+--------------+-----+\n",
      "| (3,[0],[1.0])|12178|\n",
      "| (3,[1],[1.0])| 4018|\n",
      "| (3,[2],[1.0])| 2586|\n",
      "|     (3,[],[])| 1218|\n",
      "+--------------+-----+\n",
      "\n"
     ]
    }
   ],
   "source": [
    "web.groupBy('Country Vector').count().orderBy('count',ascending=False).show(5)"
   ]
  },
  {
   "cell_type": "markdown",
   "metadata": {},
   "source": [
    "#### Now that we have converted both the categorical columns into numerical forms, we need to assemble all of the input columns into a single vector that would act as the input feature for the model.\n",
    "So, we select the input columns that we need to use to create the single feature vector and name the output vector as features"
   ]
  },
  {
   "cell_type": "code",
   "execution_count": 38,
   "metadata": {},
   "outputs": [
    {
     "name": "stdout",
     "output_type": "stream",
     "text": [
      "root\n",
      " |-- Country: string (nullable = true)\n",
      " |-- Age: integer (nullable = true)\n",
      " |-- Repeat_Visitor: integer (nullable = true)\n",
      " |-- Platform: string (nullable = true)\n",
      " |-- Web_pages_viewed: integer (nullable = true)\n",
      " |-- Status: integer (nullable = true)\n",
      " |-- Country Number: double (nullable = true)\n",
      " |-- Platform Number: double (nullable = true)\n",
      " |-- Platform Vector: vector (nullable = true)\n",
      " |-- Country Vector: vector (nullable = true)\n",
      " |-- features: vector (nullable = true)\n",
      "\n"
     ]
    }
   ],
   "source": [
    "web_assembler = VectorAssembler(inputCols=['Platform Vector','Country Vector','Age',\n",
    "                                           'Repeat_Visitor','Web_pages_viewed'],\n",
    "                                outputCol=\"features\")\n",
    "web = web_assembler.transform(web)\n",
    "web.printSchema()"
   ]
  },
  {
   "cell_type": "code",
   "execution_count": 40,
   "metadata": {},
   "outputs": [
    {
     "name": "stdout",
     "output_type": "stream",
     "text": [
      "+-----------------------------------+------+\n",
      "|features                           |Status|\n",
      "+-----------------------------------+------+\n",
      "|[1.0,0.0,0.0,1.0,0.0,41.0,1.0,21.0]|1     |\n",
      "|[1.0,0.0,0.0,0.0,1.0,28.0,1.0,5.0] |0     |\n",
      "|(8,[1,4,5,7],[1.0,1.0,40.0,3.0])   |0     |\n",
      "|(8,[2,5,6,7],[1.0,31.0,1.0,15.0])  |1     |\n",
      "|(8,[1,5,7],[1.0,32.0,15.0])        |1     |\n",
      "+-----------------------------------+------+\n",
      "only showing top 5 rows\n",
      "\n"
     ]
    }
   ],
   "source": [
    "web.select(\"features\",\"Status\").show(5, False)"
   ]
  },
  {
   "cell_type": "markdown",
   "metadata": {},
   "source": [
    "## Building the Regression Model\n",
    "Let us select only features column as input and the Status column as output for training the logistic regression model."
   ]
  },
  {
   "cell_type": "code",
   "execution_count": 42,
   "metadata": {},
   "outputs": [],
   "source": [
    "model = web.select(['features','Status'])"
   ]
  },
  {
   "cell_type": "markdown",
   "metadata": {},
   "source": [
    "### Spliting the Dataset\n",
    "We have to split the dataset into a training and test dataset in order to train and evaluate the performance of of our model. Here we will use the 75%/25% ratio. That means that we will use 75% of the data for training."
   ]
  },
  {
   "cell_type": "code",
   "execution_count": 56,
   "metadata": {},
   "outputs": [
    {
     "name": "stdout",
     "output_type": "stream",
     "text": [
      "Number of records in Training set: 14991\n",
      "Number of records in Testing set: 5009\n"
     ]
    }
   ],
   "source": [
    "training,testing =model.randomSplit([0.75,0.25])\n",
    "print(\"Number of records in Training set:\", training.count())\n",
    "print(\"Number of records in Testing set:\", testing.count())"
   ]
  },
  {
   "cell_type": "markdown",
   "metadata": {},
   "source": [
    " ### Building The Logistic Regression Model\n",
    " We will still use features as input and Status as the output column."
   ]
  },
  {
   "cell_type": "code",
   "execution_count": 57,
   "metadata": {},
   "outputs": [],
   "source": [
    "from pyspark.ml.classification import LogisticRegression\n",
    "log_reg = LogisticRegression(labelCol = \"Status\").fit(training)\n"
   ]
  },
  {
   "cell_type": "markdown",
   "metadata": {},
   "source": [
    "### Training\n",
    "Here we will use the evalute function of Spark since it executes all the steps in an optimized way.\n",
    "The prediction column signifies the class label that the model has predicted for the given row and probability column contains two probabilities (probability for negative class at 0th index and probability for positive class at 1st index)."
   ]
  },
  {
   "cell_type": "code",
   "execution_count": 59,
   "metadata": {},
   "outputs": [
    {
     "name": "stdout",
     "output_type": "stream",
     "text": [
      "+------+----------+----------------------------------------+\n",
      "|Status|prediction|probability                             |\n",
      "+------+----------+----------------------------------------+\n",
      "|1     |1.0       |[0.29277010838362977,0.7072298916163702]|\n",
      "|1     |1.0       |[0.29277010838362977,0.7072298916163702]|\n",
      "|1     |1.0       |[0.29277010838362977,0.7072298916163702]|\n",
      "|1     |1.0       |[0.16376903333782275,0.8362309666621772]|\n",
      "|1     |1.0       |[0.16376903333782275,0.8362309666621772]|\n",
      "|1     |1.0       |[0.16376903333782275,0.8362309666621772]|\n",
      "|1     |1.0       |[0.16376903333782275,0.8362309666621772]|\n",
      "|1     |1.0       |[0.08479376587117754,0.9152062341288225]|\n",
      "|1     |1.0       |[0.08479376587117754,0.9152062341288225]|\n",
      "|1     |1.0       |[0.08479376587117754,0.9152062341288225]|\n",
      "+------+----------+----------------------------------------+\n",
      "only showing top 10 rows\n",
      "\n"
     ]
    }
   ],
   "source": [
    "train_results = log_reg.evaluate(training).predictions\n",
    "train_results.filter(train_results['Status']==1).filter(train_results['prediction']==1).select(['Status','prediction','probability']).show(10,False)"
   ]
  },
  {
   "cell_type": "markdown",
   "metadata": {},
   "source": [
    "### Linear Regression Model on Test Data\n",
    "Its perhaps time to check the performance of this model on unseen test data. We again make use of the evaluate function to make predictions on the test. We assign the predictions DataFrame to results and results DataFrame\n",
    "now contains five columns."
   ]
  },
  {
   "cell_type": "code",
   "execution_count": 60,
   "metadata": {},
   "outputs": [
    {
     "name": "stdout",
     "output_type": "stream",
     "text": [
      "root\n",
      " |-- features: vector (nullable = true)\n",
      " |-- Status: integer (nullable = true)\n",
      " |-- rawPrediction: vector (nullable = true)\n",
      " |-- probability: vector (nullable = true)\n",
      " |-- prediction: double (nullable = true)\n",
      "\n"
     ]
    }
   ],
   "source": [
    "results = log_reg.evaluate(testing).predictions\n",
    "results.printSchema()"
   ]
  },
  {
   "cell_type": "code",
   "execution_count": 61,
   "metadata": {},
   "outputs": [
    {
     "name": "stdout",
     "output_type": "stream",
     "text": [
      "+------+----------+\n",
      "|Status|prediction|\n",
      "+------+----------+\n",
      "|     0|       0.0|\n",
      "|     0|       0.0|\n",
      "|     0|       0.0|\n",
      "|     0|       0.0|\n",
      "|     0|       0.0|\n",
      "|     0|       0.0|\n",
      "|     0|       0.0|\n",
      "|     0|       0.0|\n",
      "|     0|       0.0|\n",
      "|     0|       0.0|\n",
      "+------+----------+\n",
      "only showing top 10 rows\n",
      "\n"
     ]
    }
   ],
   "source": [
    "# Filtering out the status and the prediction columns.\n",
    "results.select([\"Status\",\"prediction\"]).show(10)"
   ]
  },
  {
   "cell_type": "markdown",
   "metadata": {},
   "source": [
    "### Confusion Matrix\n",
    "Since this is a classification problem, we will use a confusion matrix to gauge the performance of the model.\n",
    "We will manually create the variables for true positives, true negatives, false positives, and false negatives to understand them better rather than using the direct inbuilt function."
   ]
  },
  {
   "cell_type": "code",
   "execution_count": 66,
   "metadata": {},
   "outputs": [],
   "source": [
    "tp = results[(results.Status == 1) & (results.prediction == 1)].count() # True positive\n",
    "tn = results[(results.Status == 0) & (results.prediction == 0)].count() # True Negative\n",
    "fp = results[(results.Status == 0) & (results.prediction == 1)].count() # False Positive\n",
    "fn = results[(results.Status == 1) & (results.prediction == 0)].count() # False Negative"
   ]
  },
  {
   "cell_type": "markdown",
   "metadata": {},
   "source": [
    "### Model Accuracy Evaluation\n",
    "accuracy is the most basic metric for evaluating any classifier; however, this is not the right indicator of\n",
    "the performance of the model due to dependency on the target class balance. We will still use it though."
   ]
  },
  {
   "cell_type": "code",
   "execution_count": 68,
   "metadata": {},
   "outputs": [
    {
     "name": "stdout",
     "output_type": "stream",
     "text": [
      "The accuracy of the model is: 0.9431024156518267\n"
     ]
    }
   ],
   "source": [
    "accuracy=float((tp+tn) /(results.count()))\n",
    "print(\"The accuracy of the model is:\", accuracy)"
   ]
  },
  {
   "cell_type": "markdown",
   "metadata": {},
   "source": [
    "### WOOOW !!! Our model has achieved 94% accuracy. Incredible. "
   ]
  },
  {
   "cell_type": "markdown",
   "metadata": {},
   "source": [
    "### Recal Rate:\n",
    "This shows how much of the positive class cases we are able to predict correctly out of the total positive class observations."
   ]
  },
  {
   "cell_type": "code",
   "execution_count": 72,
   "metadata": {},
   "outputs": [
    {
     "name": "stdout",
     "output_type": "stream",
     "text": [
      "Our model has a recall rate of 94.0935192780968 percent\n"
     ]
    }
   ],
   "source": [
    "recall = float(tp)/(tp + fn)\n",
    "print(\"Our model has a recall rate of\",recall * 100,\"percent\")"
   ]
  },
  {
   "cell_type": "markdown",
   "metadata": {},
   "source": [
    "### Precision Rate\n",
    "Here we talks about the number of true positives predicted correctly out of all the predicted positives observations."
   ]
  },
  {
   "cell_type": "code",
   "execution_count": 73,
   "metadata": {},
   "outputs": [
    {
     "name": "stdout",
     "output_type": "stream",
     "text": [
      "Our precisition rate is: 94.2094455852156 percent\n"
     ]
    }
   ],
   "source": [
    "precision = float(tp) / (tp +fp)\n",
    "print(\"Our precisition rate is:\", precision * 100, \"percent\")"
   ]
  },
  {
   "cell_type": "markdown",
   "metadata": {},
   "source": [
    "Our recall rate and precision rate are also in the same range, which is due to the fact that our target class was well balanced."
   ]
  },
  {
   "cell_type": "markdown",
   "metadata": {},
   "source": [
    "#### In this code I went through what I consider the building blocks of a logistics regression model.\n",
    "#### I really hope it helps.\n",
    "#### Bye."
   ]
  }
 ],
 "metadata": {
  "kernelspec": {
   "display_name": "Python 3",
   "language": "python",
   "name": "python3"
  },
  "language_info": {
   "codemirror_mode": {
    "name": "ipython",
    "version": 3
   },
   "file_extension": ".py",
   "mimetype": "text/x-python",
   "name": "python",
   "nbconvert_exporter": "python",
   "pygments_lexer": "ipython3",
   "version": "3.5.2"
  }
 },
 "nbformat": 4,
 "nbformat_minor": 2
}
