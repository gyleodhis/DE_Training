{
 "cells": [
  {
   "cell_type": "markdown",
   "metadata": {},
   "source": [
    "# A Movie Recommender System Using >>Apache Spark 2.4\n",
    "### gyleodhis@outlook.com\n",
    "### [@gyleodhis](https://www.twitter.com/gyleodhis)\n",
    "### ![@gyleodhis](./static/gyle.jpg)\n",
    "#### Licence:\n",
    "You can use this code for anything you may wish only leave this page:\n",
    "#### AS IS; HOW IS, WHERE IS"
   ]
  },
  {
   "cell_type": "code",
   "execution_count": 1,
   "metadata": {},
   "outputs": [],
   "source": [
    "import findspark\n",
    "findspark.init()\n",
    "from pyspark.sql import SparkSession\n",
    "spark = SparkSession.builder.appName('Recommender System').getOrCreate()"
   ]
  },
  {
   "cell_type": "markdown",
   "metadata": {},
   "source": [
    "### Reading the Dataset"
   ]
  },
  {
   "cell_type": "code",
   "execution_count": 2,
   "metadata": {},
   "outputs": [
    {
     "name": "stdout",
     "output_type": "stream",
     "text": [
      "+------+------------+------+\n",
      "|userId|       title|rating|\n",
      "+------+------------+------+\n",
      "|   196|Kolya (1996)|     3|\n",
      "|    63|Kolya (1996)|     3|\n",
      "|   226|Kolya (1996)|     5|\n",
      "|   154|Kolya (1996)|     3|\n",
      "|   306|Kolya (1996)|     5|\n",
      "|   296|Kolya (1996)|     4|\n",
      "|    34|Kolya (1996)|     5|\n",
      "|   271|Kolya (1996)|     4|\n",
      "|   201|Kolya (1996)|     4|\n",
      "|   209|Kolya (1996)|     4|\n",
      "+------+------------+------+\n",
      "only showing top 10 rows\n",
      "\n"
     ]
    }
   ],
   "source": [
    "df = spark.read.csv('./static/movie_ratings_df.csv', inferSchema=True, header=True)\n",
    "df.show(10, True) # Pulls the fist ten rows of the dataset"
   ]
  },
  {
   "cell_type": "markdown",
   "metadata": {},
   "source": [
    "### Data size in terms of rows and records"
   ]
  },
  {
   "cell_type": "code",
   "execution_count": 3,
   "metadata": {},
   "outputs": [
    {
     "name": "stdout",
     "output_type": "stream",
     "text": [
      "(100000, 3)\n"
     ]
    }
   ],
   "source": [
    "print((df.count(), len(df.columns)))"
   ]
  },
  {
   "cell_type": "markdown",
   "metadata": {},
   "source": [
    "Our Dataset contains 100,000 records with only three columns"
   ]
  },
  {
   "cell_type": "markdown",
   "metadata": {},
   "source": [
    "Data Schema"
   ]
  },
  {
   "cell_type": "code",
   "execution_count": 4,
   "metadata": {},
   "outputs": [
    {
     "name": "stdout",
     "output_type": "stream",
     "text": [
      "root\n",
      " |-- userId: integer (nullable = true)\n",
      " |-- title: string (nullable = true)\n",
      " |-- rating: integer (nullable = true)\n",
      "\n"
     ]
    }
   ],
   "source": [
    "df.printSchema()"
   ]
  },
  {
   "cell_type": "markdown",
   "metadata": {},
   "source": [
    "#### Two of the columns are Numerical while title column is categorical"
   ]
  },
  {
   "cell_type": "markdown",
   "metadata": {},
   "source": [
    "#### Top users by number of moviers rated"
   ]
  },
  {
   "cell_type": "code",
   "execution_count": 5,
   "metadata": {},
   "outputs": [
    {
     "name": "stdout",
     "output_type": "stream",
     "text": [
      "+------+-----+\n",
      "|userId|count|\n",
      "+------+-----+\n",
      "|405   |737  |\n",
      "|655   |685  |\n",
      "|13    |636  |\n",
      "|450   |540  |\n",
      "|276   |518  |\n",
      "|416   |493  |\n",
      "|537   |490  |\n",
      "|303   |484  |\n",
      "|234   |480  |\n",
      "|393   |448  |\n",
      "+------+-----+\n",
      "only showing top 10 rows\n",
      "\n"
     ]
    }
   ],
   "source": [
    "df.groupBy('userId').count().orderBy('count', ascending=False).show(10, False)"
   ]
  },
  {
   "cell_type": "markdown",
   "metadata": {},
   "source": [
    "#### Bottom users by number of moviers rated"
   ]
  },
  {
   "cell_type": "code",
   "execution_count": 6,
   "metadata": {},
   "outputs": [
    {
     "name": "stdout",
     "output_type": "stream",
     "text": [
      "+------+-----+\n",
      "|userId|count|\n",
      "+------+-----+\n",
      "|732   |20   |\n",
      "|631   |20   |\n",
      "|636   |20   |\n",
      "|926   |20   |\n",
      "|93    |20   |\n",
      "|572   |20   |\n",
      "|596   |20   |\n",
      "|34    |20   |\n",
      "|300   |20   |\n",
      "|685   |20   |\n",
      "+------+-----+\n",
      "only showing top 10 rows\n",
      "\n"
     ]
    }
   ],
   "source": [
    "df.groupBy('userId').count().orderBy('count', ascending=True).show(10, False)"
   ]
  },
  {
   "cell_type": "markdown",
   "metadata": {},
   "source": [
    "## Feature Engineering"
   ]
  },
  {
   "cell_type": "code",
   "execution_count": 7,
   "metadata": {},
   "outputs": [],
   "source": [
    "from pyspark.sql.functions import *\n",
    "from pyspark.ml.feature import StringIndexer, IndexToString"
   ]
  },
  {
   "cell_type": "markdown",
   "metadata": {},
   "source": [
    "#### So now we create the stringindexer object by mentioning the input column and output column."
   ]
  },
  {
   "cell_type": "code",
   "execution_count": 8,
   "metadata": {},
   "outputs": [
    {
     "name": "stdout",
     "output_type": "stream",
     "text": [
      "+------+------------+------+---------+\n",
      "|userId|title       |rating|New_Title|\n",
      "+------+------------+------+---------+\n",
      "|196   |Kolya (1996)|3     |287.0    |\n",
      "|63    |Kolya (1996)|3     |287.0    |\n",
      "|226   |Kolya (1996)|5     |287.0    |\n",
      "|154   |Kolya (1996)|3     |287.0    |\n",
      "|306   |Kolya (1996)|5     |287.0    |\n",
      "|296   |Kolya (1996)|4     |287.0    |\n",
      "|34    |Kolya (1996)|5     |287.0    |\n",
      "|271   |Kolya (1996)|4     |287.0    |\n",
      "|201   |Kolya (1996)|4     |287.0    |\n",
      "|209   |Kolya (1996)|4     |287.0    |\n",
      "+------+------------+------+---------+\n",
      "only showing top 10 rows\n",
      "\n"
     ]
    }
   ],
   "source": [
    "stringIndexer = StringIndexer(inputCol='title',outputCol='New_Title')\n",
    "model = stringIndexer.fit(df)\n",
    "indexed = model.transform(df)\n",
    "indexed.show(10, False)"
   ]
  },
  {
   "cell_type": "code",
   "execution_count": 9,
   "metadata": {},
   "outputs": [
    {
     "name": "stdout",
     "output_type": "stream",
     "text": [
      "+-----------------------------+-----+\n",
      "|title                        |count|\n",
      "+-----------------------------+-----+\n",
      "|Star Wars (1977)             |583  |\n",
      "|Contact (1997)               |509  |\n",
      "|Fargo (1996)                 |508  |\n",
      "|Return of the Jedi (1983)    |507  |\n",
      "|Liar Liar (1997)             |485  |\n",
      "|English Patient, The (1996)  |481  |\n",
      "|Scream (1996)                |478  |\n",
      "|Toy Story (1995)             |452  |\n",
      "|Air Force One (1997)         |431  |\n",
      "|Independence Day (ID4) (1996)|429  |\n",
      "+-----------------------------+-----+\n",
      "only showing top 10 rows\n",
      "\n",
      "+---------+-----+\n",
      "|New_Title|count|\n",
      "+---------+-----+\n",
      "|0.0      |583  |\n",
      "|1.0      |509  |\n",
      "|2.0      |508  |\n",
      "|3.0      |507  |\n",
      "|4.0      |485  |\n",
      "|5.0      |481  |\n",
      "|6.0      |478  |\n",
      "|7.0      |452  |\n",
      "|8.0      |431  |\n",
      "|9.0      |429  |\n",
      "+---------+-----+\n",
      "only showing top 10 rows\n",
      "\n",
      "None None\n"
     ]
    }
   ],
   "source": [
    "print (df.groupBy('title').count().orderBy('count',ascending=False).show(10,False),\n",
    "       indexed.groupBy('New_Title').count().orderBy('count',ascending=False).show(10,False))"
   ]
  },
  {
   "cell_type": "markdown",
   "metadata": {},
   "source": [
    "## Pliting The Data Set\n",
    "We split it into a 80 to 20 ratio to train the model and test its accuracy"
   ]
  },
  {
   "cell_type": "code",
   "execution_count": 10,
   "metadata": {},
   "outputs": [
    {
     "name": "stdout",
     "output_type": "stream",
     "text": [
      "Training set 80095\n",
      "Testing set 19905\n"
     ]
    }
   ],
   "source": [
    "train,test=indexed.randomSplit([0.8,0.2])\n",
    "print(\"Training set\", train.count())\n",
    "print(\"Testing set\", test.count())"
   ]
  },
  {
   "cell_type": "markdown",
   "metadata": {},
   "source": [
    "##  Building and Training the Model"
   ]
  },
  {
   "cell_type": "code",
   "execution_count": 11,
   "metadata": {},
   "outputs": [],
   "source": [
    "from pyspark.ml.recommendation import ALS\n",
    "rec=ALS(maxIter=10,regParam=0.01,userCol='userId',itemCol='New_Title',ratingCol='rating',nonnegative=True)\n",
    "rec_model = rec.fit(train)"
   ]
  },
  {
   "cell_type": "markdown",
   "metadata": {},
   "source": [
    "### Performance evaluation on our test data\n",
    "Here we will chack the performance of our model on unseen data."
   ]
  },
  {
   "cell_type": "code",
   "execution_count": 12,
   "metadata": {},
   "outputs": [
    {
     "name": "stdout",
     "output_type": "stream",
     "text": [
      "root\n",
      " |-- userId: integer (nullable = true)\n",
      " |-- title: string (nullable = true)\n",
      " |-- rating: integer (nullable = true)\n",
      " |-- New_Title: double (nullable = false)\n",
      " |-- prediction: float (nullable = false)\n",
      "\n"
     ]
    }
   ],
   "source": [
    "predict_ratings = rec_model.transform(test)\n",
    "predict_ratings.printSchema()"
   ]
  },
  {
   "cell_type": "code",
   "execution_count": 13,
   "metadata": {},
   "outputs": [
    {
     "name": "stdout",
     "output_type": "stream",
     "text": [
      "+------+--------------------+------+---------+----------+\n",
      "|userId|               title|rating|New_Title|prediction|\n",
      "+------+--------------------+------+---------+----------+\n",
      "|    85|Much Ado About No...|     4|    148.0| 4.1525855|\n",
      "|   883|Much Ado About No...|     3|    148.0|   4.04274|\n",
      "|   321|Much Ado About No...|     4|    148.0| 3.7027595|\n",
      "|   642|Much Ado About No...|     5|    148.0| 4.3708024|\n",
      "|   497|Much Ado About No...|     2|    148.0| 3.5686097|\n",
      "|   253|Much Ado About No...|     4|    148.0|  4.869289|\n",
      "|   417|Much Ado About No...|     5|    148.0| 4.0947976|\n",
      "|   727|Much Ado About No...|     5|    148.0|  3.574555|\n",
      "|   416|Much Ado About No...|     5|    148.0|  4.762173|\n",
      "|   748|Much Ado About No...|     3|    148.0| 3.9268343|\n",
      "+------+--------------------+------+---------+----------+\n",
      "only showing top 10 rows\n",
      "\n"
     ]
    }
   ],
   "source": [
    "predict_ratings.show(10)"
   ]
  },
  {
   "cell_type": "code",
   "execution_count": 14,
   "metadata": {},
   "outputs": [
    {
     "name": "stdout",
     "output_type": "stream",
     "text": [
      "nan\n"
     ]
    }
   ],
   "source": [
    "from pyspark.ml.evaluation import RegressionEvaluator\n",
    "evaluator = RegressionEvaluator(metricName = 'rmse', predictionCol = 'prediction', labelCol = 'rating')\n",
    "rmse = evaluator.evaluate(predict_ratings)\n",
    "print(rmse)"
   ]
  },
  {
   "cell_type": "markdown",
   "metadata": {},
   "source": [
    "##### The rmse is non we can equate this to zero meaning there is no error."
   ]
  },
  {
   "cell_type": "markdown",
   "metadata": {},
   "source": [
    "### Recommend Top Movies That Active User Might Like\n",
    "The first step is to create a list of unique movies in the dataframe."
   ]
  },
  {
   "cell_type": "code",
   "execution_count": 15,
   "metadata": {},
   "outputs": [
    {
     "data": {
      "text/plain": [
       "1664"
      ]
     },
     "execution_count": 15,
     "metadata": {},
     "output_type": "execute_result"
    }
   ],
   "source": [
    "unique_movies=indexed.select('New_Title').distinct()\n",
    "unique_movies.count() ## Total numbe rof individual movies in our new dataframe"
   ]
  },
  {
   "cell_type": "code",
   "execution_count": 16,
   "metadata": {},
   "outputs": [],
   "source": [
    "a = unique_movies.alias('a')"
   ]
  },
  {
   "cell_type": "markdown",
   "metadata": {},
   "source": [
    "#### We can select any user within the dataset for which we need to recommend other movies. In our case, we go ahead with userId = 96."
   ]
  },
  {
   "cell_type": "markdown",
   "metadata": {},
   "source": [
    "#### We will filter the movies that this active user has already rated or seen."
   ]
  },
  {
   "cell_type": "code",
   "execution_count": 17,
   "metadata": {},
   "outputs": [
    {
     "data": {
      "text/plain": [
       "56"
      ]
     },
     "execution_count": 17,
     "metadata": {},
     "output_type": "execute_result"
    }
   ],
   "source": [
    "user_id=96\n",
    "watched_movies=indexed.filter(indexed['userId'] == user_id).select('New_Title').distinct()\n",
    "watched_movies.count() # Number of movies the user has watched"
   ]
  },
  {
   "cell_type": "code",
   "execution_count": 18,
   "metadata": {},
   "outputs": [],
   "source": [
    "b=watched_movies.alias('b')"
   ]
  },
  {
   "cell_type": "markdown",
   "metadata": {},
   "source": [
    "#### So, there are total of 56 unique movies out of 1,664 movies that this active user has already rated. So, we would want to recommend movies from the remaining 1608 movies."
   ]
  },
  {
   "cell_type": "code",
   "execution_count": 19,
   "metadata": {},
   "outputs": [
    {
     "name": "stdout",
     "output_type": "stream",
     "text": [
      "+---------+---------+\n",
      "|New_Title|New_Title|\n",
      "+---------+---------+\n",
      "|    305.0|     null|\n",
      "|    596.0|     null|\n",
      "|    299.0|     null|\n",
      "|    769.0|     null|\n",
      "|    692.0|     null|\n",
      "|    934.0|     null|\n",
      "|   1051.0|     null|\n",
      "|    496.0|     null|\n",
      "|    558.0|     null|\n",
      "|    170.0|     null|\n",
      "|    184.0|     null|\n",
      "|    576.0|     null|\n",
      "|    147.0|     null|\n",
      "|    810.0|     null|\n",
      "|    720.0|     null|\n",
      "|    782.0|     null|\n",
      "|   1369.0|     null|\n",
      "|   1587.0|     null|\n",
      "|    160.0|     null|\n",
      "|    608.0|     null|\n",
      "+---------+---------+\n",
      "only showing top 20 rows\n",
      "\n"
     ]
    }
   ],
   "source": [
    "total_movies = a.join(b, a.New_Title == b.New_Title,how='left')\n",
    "total_movies.show()"
   ]
  },
  {
   "cell_type": "code",
   "execution_count": 20,
   "metadata": {},
   "outputs": [
    {
     "data": {
      "text/plain": [
       "1608"
      ]
     },
     "execution_count": 20,
     "metadata": {},
     "output_type": "execute_result"
    }
   ],
   "source": [
    "remaining_movies=total_movies.where(col(\"b.New_Title\").isNull()).select(a.New_Title).distinct()\n",
    "remaining_movies.count()"
   ]
  },
  {
   "cell_type": "code",
   "execution_count": 21,
   "metadata": {},
   "outputs": [
    {
     "name": "stdout",
     "output_type": "stream",
     "text": [
      "+---------+------+\n",
      "|New_Title|userId|\n",
      "+---------+------+\n",
      "|305.0    |96    |\n",
      "|596.0    |96    |\n",
      "|299.0    |96    |\n",
      "|769.0    |96    |\n",
      "|692.0    |96    |\n",
      "|934.0    |96    |\n",
      "|1051.0   |96    |\n",
      "|496.0    |96    |\n",
      "|558.0    |96    |\n",
      "|170.0    |96    |\n",
      "+---------+------+\n",
      "only showing top 10 rows\n",
      "\n"
     ]
    }
   ],
   "source": [
    "remaining_movies=remaining_movies.withColumn(\"userId\",lit(int(user_id)))\n",
    "remaining_movies.show(10, False)"
   ]
  },
  {
   "cell_type": "markdown",
   "metadata": {},
   "source": [
    "### Finally, we can now make the predictions on this remaining movie’s dataset for the active user using the recommender model that we built earlier. We filter only a few top recommendations that have the highest predicted ratings."
   ]
  },
  {
   "cell_type": "code",
   "execution_count": 22,
   "metadata": {},
   "outputs": [
    {
     "name": "stdout",
     "output_type": "stream",
     "text": [
      "+---------+------+----------+\n",
      "|New_Title|userId|prediction|\n",
      "+---------+------+----------+\n",
      "|1481.0   |96    |NaN       |\n",
      "|1553.0   |96    |NaN       |\n",
      "|1576.0   |96    |NaN       |\n",
      "|1638.0   |96    |NaN       |\n",
      "|1518.0   |96    |NaN       |\n",
      "|1651.0   |96    |NaN       |\n",
      "|1655.0   |96    |NaN       |\n",
      "|1639.0   |96    |NaN       |\n",
      "|1615.0   |96    |NaN       |\n",
      "|1542.0   |96    |NaN       |\n",
      "|1536.0   |96    |NaN       |\n",
      "|1544.0   |96    |NaN       |\n",
      "|1659.0   |96    |NaN       |\n",
      "|1635.0   |96    |NaN       |\n",
      "|1575.0   |96    |NaN       |\n",
      "|1397.0   |96    |NaN       |\n",
      "|1464.0   |96    |NaN       |\n",
      "|1571.0   |96    |NaN       |\n",
      "|1652.0   |96    |NaN       |\n",
      "|1593.0   |96    |NaN       |\n",
      "|1602.0   |96    |NaN       |\n",
      "|1562.0   |96    |NaN       |\n",
      "|1660.0   |96    |NaN       |\n",
      "|1547.0   |96    |NaN       |\n",
      "|1608.0   |96    |NaN       |\n",
      "|1487.0   |96    |NaN       |\n",
      "|1628.0   |96    |NaN       |\n",
      "|1616.0   |96    |NaN       |\n",
      "|1637.0   |96    |NaN       |\n",
      "|1579.0   |96    |NaN       |\n",
      "|1560.0   |96    |NaN       |\n",
      "|1613.0   |96    |NaN       |\n",
      "|1347.0   |96    |9.859842  |\n",
      "|1411.0   |96    |8.478969  |\n",
      "|1277.0   |96    |8.346124  |\n",
      "|1271.0   |96    |7.3861904 |\n",
      "|884.0    |96    |6.8827066 |\n",
      "|1410.0   |96    |6.837696  |\n",
      "|813.0    |96    |6.8214083 |\n",
      "|459.0    |96    |6.6691585 |\n",
      "|1121.0   |96    |6.6156397 |\n",
      "|770.0    |96    |6.441062  |\n",
      "|1107.0   |96    |6.387128  |\n",
      "|346.0    |96    |6.309991  |\n",
      "|242.0    |96    |6.259225  |\n",
      "|954.0    |96    |6.183684  |\n",
      "|877.0    |96    |6.144337  |\n",
      "|882.0    |96    |6.125803  |\n",
      "|1390.0   |96    |6.1087503 |\n",
      "|1230.0   |96    |6.105707  |\n",
      "|1005.0   |96    |5.9840035 |\n",
      "|840.0    |96    |5.938725  |\n",
      "|963.0    |96    |5.938284  |\n",
      "|1288.0   |96    |5.9160724 |\n",
      "|728.0    |96    |5.914935  |\n",
      "|558.0    |96    |5.893246  |\n",
      "|1136.0   |96    |5.8295503 |\n",
      "|1212.0   |96    |5.815298  |\n",
      "|915.0    |96    |5.809105  |\n",
      "|380.0    |96    |5.800167  |\n",
      "|1269.0   |96    |5.7899456 |\n",
      "|981.0    |96    |5.785143  |\n",
      "|463.0    |96    |5.7750144 |\n",
      "|1262.0   |96    |5.7551494 |\n",
      "|1083.0   |96    |5.7443814 |\n",
      "|1198.0   |96    |5.7404985 |\n",
      "|922.0    |96    |5.7233524 |\n",
      "|874.0    |96    |5.7148056 |\n",
      "|386.0    |96    |5.711822  |\n",
      "|1389.0   |96    |5.7061596 |\n",
      "|918.0    |96    |5.7000046 |\n",
      "|1330.0   |96    |5.6696987 |\n",
      "|514.0    |96    |5.6398826 |\n",
      "|819.0    |96    |5.6133976 |\n",
      "|1057.0   |96    |5.611922  |\n",
      "|1289.0   |96    |5.599759  |\n",
      "|1207.0   |96    |5.5941877 |\n",
      "|959.0    |96    |5.592166  |\n",
      "|183.0    |96    |5.5788355 |\n",
      "|1432.0   |96    |5.5742345 |\n",
      "|1084.0   |96    |5.5713224 |\n",
      "|676.0    |96    |5.5585995 |\n",
      "|848.0    |96    |5.552638  |\n",
      "|433.0    |96    |5.5435233 |\n",
      "|509.0    |96    |5.529969  |\n",
      "|1012.0   |96    |5.520061  |\n",
      "|1241.0   |96    |5.4807315 |\n",
      "|649.0    |96    |5.4758716 |\n",
      "|536.0    |96    |5.4730597 |\n",
      "|488.0    |96    |5.471597  |\n",
      "|454.0    |96    |5.4703207 |\n",
      "|947.0    |96    |5.467999  |\n",
      "|1275.0   |96    |5.4617534 |\n",
      "|1342.0   |96    |5.4446855 |\n",
      "|705.0    |96    |5.4257197 |\n",
      "|938.0    |96    |5.4135275 |\n",
      "|988.0    |96    |5.4017453 |\n",
      "|1155.0   |96    |5.3941116 |\n",
      "|1004.0   |96    |5.3882484 |\n",
      "|1034.0   |96    |5.37455   |\n",
      "+---------+------+----------+\n",
      "only showing top 100 rows\n",
      "\n"
     ]
    }
   ],
   "source": [
    "recommendations = rec_model.transform(remaining_movies).orderBy('prediction', ascending = False)\n",
    "recommendations.show(100, False)"
   ]
  },
  {
   "cell_type": "markdown",
   "metadata": {},
   "source": [
    "### Let us add the movie title to the recommendations"
   ]
  },
  {
   "cell_type": "code",
   "execution_count": 23,
   "metadata": {},
   "outputs": [
    {
     "name": "stdout",
     "output_type": "stream",
     "text": [
      "+---------+------+----------+-----------------------------------------------------------------+\n",
      "|New_Title|userId|prediction|title                                                            |\n",
      "+---------+------+----------+-----------------------------------------------------------------+\n",
      "|1637.0   |96    |NaN       |T-Men (1947)                                                     |\n",
      "|1553.0   |96    |NaN       |Death in the Garden (Mort en ce jardin, La) (1956)               |\n",
      "|1655.0   |96    |NaN       |Wend Kuuni (God's Gift) (1982)                                   |\n",
      "|1576.0   |96    |NaN       |Hostile Intentions (1994)                                        |\n",
      "|1562.0   |96    |NaN       |Fear, The (1995)                                                 |\n",
      "|1542.0   |96    |NaN       |Brothers in Trouble (1995)                                       |\n",
      "|1464.0   |96    |NaN       |American Strays (1996)                                           |\n",
      "|1544.0   |96    |NaN       |Careful (1992)                                                   |\n",
      "|1602.0   |96    |NaN       |Mirage (1995)                                                    |\n",
      "|1659.0   |96    |NaN       |Witness (1985)                                                   |\n",
      "|1579.0   |96    |NaN       |I Don't Want to Talk About It (De eso no se habla) (1993)        |\n",
      "|1616.0   |96    |NaN       |Pharaoh's Army (1995)                                            |\n",
      "|1652.0   |96    |NaN       |Walk in the Sun, A (1945)                                        |\n",
      "|1536.0   |96    |NaN       |Baton Rouge (1988)                                               |\n",
      "|1660.0   |96    |NaN       |Woman in Question, The (1950)                                    |\n",
      "|1481.0   |96    |NaN       |Destiny Turns on the Radio (1995)                                |\n",
      "|1638.0   |96    |NaN       |Tainted (1998)                                                   |\n",
      "|1635.0   |96    |NaN       |Sweet Nothing (1995)                                             |\n",
      "|1651.0   |96    |NaN       |Vie est belle, La (Life is Rosey) (1987)                         |\n",
      "|1487.0   |96    |NaN       |Golden Earrings (1947)                                           |\n",
      "|1560.0   |96    |NaN       |Farmer & Chase (1995)                                            |\n",
      "|1639.0   |96    |NaN       |Target (1995)                                                    |\n",
      "|1571.0   |96    |NaN       |Hana-bi (1997)                                                   |\n",
      "|1628.0   |96    |NaN       |Silence of the Palace, The (Saimt el Qusur) (1994)               |\n",
      "|1608.0   |96    |NaN       |Niagara, Niagara (1997)                                          |\n",
      "|1615.0   |96    |NaN       |Paris Was a Woman (1995)                                         |\n",
      "|1593.0   |96    |NaN       |Love Is All There Is (1996)                                      |\n",
      "|1613.0   |96    |NaN       |Office Killer (1997)                                             |\n",
      "|1397.0   |96    |NaN       |The Innocent (1994)                                              |\n",
      "|1547.0   |96    |NaN       |Crude Oasis, The (1995)                                          |\n",
      "|1575.0   |96    |NaN       |Homage (1995)                                                    |\n",
      "|1518.0   |96    |NaN       |Some Mother's Son (1996)                                         |\n",
      "|1347.0   |96    |9.859842  |Angel Baby (1995)                                                |\n",
      "|1411.0   |96    |8.478969  |Boys, Les (1997)                                                 |\n",
      "|1277.0   |96    |8.346124  |Mina Tannenbaum (1994)                                           |\n",
      "|1271.0   |96    |7.3861904 |Hollow Reed (1996)                                               |\n",
      "|884.0    |96    |6.8827066 |Ruby in Paradise (1993)                                          |\n",
      "|1410.0   |96    |6.837696  |Bitter Sugar (Azucar Amargo) (1996)                              |\n",
      "|813.0    |96    |6.8214083 |Blues Brothers 2000 (1998)                                       |\n",
      "|459.0    |96    |6.6691585 |Restoration (1995)                                               |\n",
      "|1121.0   |96    |6.6156397 |Endless Summer 2, The (1994)                                     |\n",
      "|770.0    |96    |6.441062  |Fast, Cheap & Out of Control (1997)                              |\n",
      "|1107.0   |96    |6.387128  |That Old Feeling (1997)                                          |\n",
      "|346.0    |96    |6.309991  |City of Lost Children, The (1995)                                |\n",
      "|242.0    |96    |6.259225  |Bound (1996)                                                     |\n",
      "|954.0    |96    |6.183684  |Blue Angel, The (Blaue Engel, Der) (1930)                        |\n",
      "|877.0    |96    |6.144337  |Cemetery Man (Dellamorte Dellamore) (1994)                       |\n",
      "|882.0    |96    |6.125803  |Live Nude Girls (1995)                                           |\n",
      "|1390.0   |96    |6.1087503 |Perfect Candidate, A (1996)                                      |\n",
      "|1230.0   |96    |6.105707  |Man of No Importance, A (1994)                                   |\n",
      "|1005.0   |96    |5.9840035 |Bye Bye, Love (1995)                                             |\n",
      "|840.0    |96    |5.938725  |Friday (1995)                                                    |\n",
      "|963.0    |96    |5.938284  |Inspector General, The (1949)                                    |\n",
      "|1288.0   |96    |5.9160724 |Whole Wide World, The (1996)                                     |\n",
      "|728.0    |96    |5.914935  |Once Upon a Time in the West (1969)                              |\n",
      "|558.0    |96    |5.893246  |Bananas (1971)                                                   |\n",
      "|1136.0   |96    |5.8295503 |Shooting Fish (1997)                                             |\n",
      "|1212.0   |96    |5.815298  |Denise Calls Up (1995)                                           |\n",
      "|915.0    |96    |5.809105  |Oscar & Lucinda (1997)                                           |\n",
      "|380.0    |96    |5.800167  |Richard III (1995)                                               |\n",
      "|1269.0   |96    |5.7899456 |Gabbeh (1996)                                                    |\n",
      "|981.0    |96    |5.785143  |Stupids, The (1996)                                              |\n",
      "|463.0    |96    |5.7750144 |Heavenly Creatures (1994)                                        |\n",
      "|1262.0   |96    |5.7551494 |Boys (1996)                                                      |\n",
      "|1083.0   |96    |5.7443814 |Stalingrad (1993)                                                |\n",
      "|1198.0   |96    |5.7404985 |Pather Panchali (1955)                                           |\n",
      "|922.0    |96    |5.7233524 |Goofy Movie, A (1995)                                            |\n",
      "|874.0    |96    |5.7148056 |Microcosmos: Le peuple de l'herbe (1996)                         |\n",
      "|386.0    |96    |5.711822  |To Die For (1995)                                                |\n",
      "|1389.0   |96    |5.7061596 |Nil By Mouth (1997)                                              |\n",
      "|918.0    |96    |5.7000046 |Umbrellas of Cherbourg, The (Parapluies de Cherbourg, Les) (1964)|\n",
      "|1330.0   |96    |5.6696987 |Scarlet Letter, The (1995)                                       |\n",
      "|514.0    |96    |5.6398826 |Jean de Florette (1986)                                          |\n",
      "|819.0    |96    |5.6133976 |Once Upon a Time... When We Were Colored (1995)                  |\n",
      "|1057.0   |96    |5.611922  |Safe (1995)                                                      |\n",
      "|1289.0   |96    |5.599759  |World of Apu, The (Apur Sansar) (1959)                           |\n",
      "|1207.0   |96    |5.5941877 |Aparajito (1956)                                                 |\n",
      "|959.0    |96    |5.592166  |Hate (Haine, La) (1995)                                          |\n",
      "|183.0    |96    |5.5788355 |Secrets & Lies (1996)                                            |\n",
      "|1432.0   |96    |5.5742345 |Joy Luck Club, The (1993)                                        |\n",
      "|1084.0   |96    |5.5713224 |Star Maker, The (Uomo delle stelle, L') (1995)                   |\n",
      "|676.0    |96    |5.5585995 |Wild Bunch, The (1969)                                           |\n",
      "|848.0    |96    |5.552638  |Spice World (1997)                                               |\n",
      "|433.0    |96    |5.5435233 |Brady Bunch Movie, The (1995)                                    |\n",
      "|509.0    |96    |5.529969  |Supercop (1992)                                                  |\n",
      "|1012.0   |96    |5.520061  |Gay Divorcee, The (1934)                                         |\n",
      "|1241.0   |96    |5.4807315 |Purple Noon (1960)                                               |\n",
      "|649.0    |96    |5.4758716 |Bottle Rocket (1996)                                             |\n",
      "|536.0    |96    |5.4730597 |Murder in the First (1995)                                       |\n",
      "|488.0    |96    |5.471597  |Wallace & Gromit: The Best of Aardman Animation (1996)           |\n",
      "|454.0    |96    |5.4703207 |Seventh Seal, The (Sjunde inseglet, Det) (1957)                  |\n",
      "|947.0    |96    |5.467999  |Trust (1990)                                                     |\n",
      "|1275.0   |96    |5.4617534 |Margaret's Museum (1995)                                         |\n",
      "|1342.0   |96    |5.4446855 |8 Heads in a Duffel Bag (1997)                                   |\n",
      "|705.0    |96    |5.4257197 |Paper, The (1994)                                                |\n",
      "|938.0    |96    |5.4135275 |Gridlock'd (1997)                                                |\n",
      "|988.0    |96    |5.4017453 |Cabin Boy (1994)                                                 |\n",
      "|1155.0   |96    |5.3941116 |Horseman on the Roof, The (Hussard sur le toit, Le) (1995)       |\n",
      "|1004.0   |96    |5.3882484 |Boxing Helena (1993)                                             |\n",
      "|1034.0   |96    |5.37455   |Palmetto (1998)                                                  |\n",
      "+---------+------+----------+-----------------------------------------------------------------+\n",
      "only showing top 100 rows\n",
      "\n"
     ]
    }
   ],
   "source": [
    "movie_title = IndexToString(inputCol=\"New_Title\",outputCol=\"title\",labels=model.labels)\n",
    "final_recommendations=movie_title.transform(recommendations)\n",
    "final_recommendations.show(100,False)"
   ]
  },
  {
   "cell_type": "markdown",
   "metadata": {},
   "source": [
    "### Thats it guys\n",
    "### A simple collaborative filtering based recommender system in PySpark using the ALS method to recommend movies to the users\n",
    "\n",
    "### Bye"
   ]
  },
  {
   "cell_type": "code",
   "execution_count": null,
   "metadata": {},
   "outputs": [],
   "source": []
  }
 ],
 "metadata": {
  "kernelspec": {
   "display_name": "Python 3 (ipykernel)",
   "language": "python",
   "name": "python3"
  },
  "language_info": {
   "codemirror_mode": {
    "name": "ipython",
    "version": 3
   },
   "file_extension": ".py",
   "mimetype": "text/x-python",
   "name": "python",
   "nbconvert_exporter": "python",
   "pygments_lexer": "ipython3",
   "version": "3.9.7"
  }
 },
 "nbformat": 4,
 "nbformat_minor": 2
}
