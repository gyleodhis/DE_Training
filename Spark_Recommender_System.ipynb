{
 "cells": [
  {
   "cell_type": "markdown",
   "metadata": {},
   "source": [
    "# A Recommender System Using >>Apache Spark 2.4\n",
    "### Predictive Analytics\n",
    "#### Licence:\n",
    "You can use this code for anything you may wish only leave this page:\n",
    "#### AS IS; HOW IS, WHERE IS"
   ]
  },
  {
   "cell_type": "code",
   "execution_count": 2,
   "metadata": {},
   "outputs": [],
   "source": [
    "import findspark\n",
    "findspark.init()\n",
    "from pyspark.sql import SparkSession\n",
    "spark = SparkSession.builder.appName('Recommender System').getOrCreate()"
   ]
  },
  {
   "cell_type": "markdown",
   "metadata": {},
   "source": [
    "### Reading the Dataset"
   ]
  },
  {
   "cell_type": "code",
   "execution_count": 3,
   "metadata": {},
   "outputs": [
    {
     "name": "stdout",
     "output_type": "stream",
     "text": [
      "+------+---------------+------+\n",
      "|userId|oil_gas_company|rating|\n",
      "+------+---------------+------+\n",
      "|   196|          Shell|     3|\n",
      "|    63|          Shell|     3|\n",
      "|   226|          Shell|     5|\n",
      "|   154|          Shell|     3|\n",
      "|   306|          Shell|     5|\n",
      "|   296|          Shell|     4|\n",
      "|    34|          Shell|     5|\n",
      "|   271|          Shell|     4|\n",
      "|   201|          Shell|     4|\n",
      "|   209|          Shell|     4|\n",
      "+------+---------------+------+\n",
      "only showing top 10 rows\n",
      "\n"
     ]
    }
   ],
   "source": [
    "df = spark.read.csv('./static/petrol_stations.csv', inferSchema=True, header=True)\n",
    "df.show(10, True) # Pulls the fist ten rows of the dataset"
   ]
  },
  {
   "cell_type": "markdown",
   "metadata": {},
   "source": [
    "### Data size in terms of rows and records"
   ]
  },
  {
   "cell_type": "code",
   "execution_count": 4,
   "metadata": {},
   "outputs": [
    {
     "name": "stdout",
     "output_type": "stream",
     "text": [
      "(5386, 3)\n"
     ]
    }
   ],
   "source": [
    "print((df.count(), len(df.columns)))"
   ]
  },
  {
   "cell_type": "markdown",
   "metadata": {},
   "source": [
    "Our Dataset contains 100,000 records with only three columns"
   ]
  },
  {
   "cell_type": "markdown",
   "metadata": {},
   "source": [
    "Data Schema"
   ]
  },
  {
   "cell_type": "code",
   "execution_count": 5,
   "metadata": {},
   "outputs": [
    {
     "name": "stdout",
     "output_type": "stream",
     "text": [
      "root\n",
      " |-- userId: integer (nullable = true)\n",
      " |-- oil_gas_company: string (nullable = true)\n",
      " |-- rating: integer (nullable = true)\n",
      "\n"
     ]
    }
   ],
   "source": [
    "df.printSchema()"
   ]
  },
  {
   "cell_type": "markdown",
   "metadata": {},
   "source": [
    "#### Two of the columns are Numerical while title column is categorical"
   ]
  },
  {
   "cell_type": "markdown",
   "metadata": {},
   "source": [
    "#### Top users by number of companies rated"
   ]
  },
  {
   "cell_type": "code",
   "execution_count": 7,
   "metadata": {},
   "outputs": [
    {
     "name": "stdout",
     "output_type": "stream",
     "text": [
      "+------+-----+\n",
      "|userId|count|\n",
      "+------+-----+\n",
      "|276   |25   |\n",
      "|378   |24   |\n",
      "|416   |24   |\n",
      "|13    |24   |\n",
      "|94    |23   |\n",
      "|655   |22   |\n",
      "|222   |22   |\n",
      "|450   |22   |\n",
      "|92    |21   |\n",
      "|417   |21   |\n",
      "+------+-----+\n",
      "only showing top 10 rows\n",
      "\n"
     ]
    }
   ],
   "source": [
    "df.groupBy('userId').count().orderBy('count', ascending=False).show(10, False)"
   ]
  },
  {
   "cell_type": "markdown",
   "metadata": {},
   "source": [
    "#### Bottom users by number of companies rated"
   ]
  },
  {
   "cell_type": "code",
   "execution_count": 8,
   "metadata": {},
   "outputs": [
    {
     "name": "stdout",
     "output_type": "stream",
     "text": [
      "+------+-----+\n",
      "|userId|count|\n",
      "+------+-----+\n",
      "|384   |1    |\n",
      "|530   |1    |\n",
      "|626   |1    |\n",
      "|211   |1    |\n",
      "|34    |1    |\n",
      "|516   |1    |\n",
      "|772   |1    |\n",
      "|31    |1    |\n",
      "|853   |1    |\n",
      "|133   |1    |\n",
      "+------+-----+\n",
      "only showing top 10 rows\n",
      "\n"
     ]
    }
   ],
   "source": [
    "df.groupBy('userId').count().orderBy('count', ascending=True).show(10, False)"
   ]
  },
  {
   "cell_type": "markdown",
   "metadata": {},
   "source": [
    "## Feature Engineering"
   ]
  },
  {
   "cell_type": "code",
   "execution_count": 9,
   "metadata": {},
   "outputs": [],
   "source": [
    "from pyspark.sql.functions import *\n",
    "from pyspark.ml.feature import StringIndexer, IndexToString"
   ]
  },
  {
   "cell_type": "markdown",
   "metadata": {},
   "source": [
    "#### So now we create the stringindexer object by mentioning the input column and output column."
   ]
  },
  {
   "cell_type": "code",
   "execution_count": 13,
   "metadata": {},
   "outputs": [
    {
     "name": "stdout",
     "output_type": "stream",
     "text": [
      "+------+---------------+------+----------+\n",
      "|userId|oil_gas_company|rating|company_no|\n",
      "+------+---------------+------+----------+\n",
      "|196   |Shell          |3     |18.0      |\n",
      "|63    |Shell          |3     |18.0      |\n",
      "|226   |Shell          |5     |18.0      |\n",
      "|154   |Shell          |3     |18.0      |\n",
      "|306   |Shell          |5     |18.0      |\n",
      "|296   |Shell          |4     |18.0      |\n",
      "|34    |Shell          |5     |18.0      |\n",
      "|271   |Shell          |4     |18.0      |\n",
      "|201   |Shell          |4     |18.0      |\n",
      "|209   |Shell          |4     |18.0      |\n",
      "+------+---------------+------+----------+\n",
      "only showing top 10 rows\n",
      "\n"
     ]
    }
   ],
   "source": [
    "stringIndexer = StringIndexer(inputCol='oil_gas_company',outputCol='company_no')\n",
    "model = stringIndexer.fit(df)\n",
    "indexed = model.transform(df)\n",
    "indexed.show(10, False)"
   ]
  },
  {
   "cell_type": "code",
   "execution_count": 14,
   "metadata": {},
   "outputs": [
    {
     "name": "stdout",
     "output_type": "stream",
     "text": [
      "+------------------------+-----+\n",
      "|oil_gas_company         |count|\n",
      "+------------------------+-----+\n",
      "|Obama Oil               |452  |\n",
      "|Pride of Libya          |390  |\n",
      "|Nairobi Oil             |365  |\n",
      "|National Oil of Naigeria|303  |\n",
      "|Total                   |297  |\n",
      "|Twister Oil             |293  |\n",
      "|SA gas                  |280  |\n",
      "|Arrow Gas               |254  |\n",
      "|Oil Ghana               |243  |\n",
      "|Rubis                   |227  |\n",
      "+------------------------+-----+\n",
      "only showing top 10 rows\n",
      "\n",
      "+----------+-----+\n",
      "|company_no|count|\n",
      "+----------+-----+\n",
      "|0.0       |452  |\n",
      "|1.0       |390  |\n",
      "|2.0       |365  |\n",
      "|3.0       |303  |\n",
      "|4.0       |297  |\n",
      "|5.0       |293  |\n",
      "|6.0       |280  |\n",
      "|7.0       |254  |\n",
      "|8.0       |243  |\n",
      "|9.0       |227  |\n",
      "+----------+-----+\n",
      "only showing top 10 rows\n",
      "\n",
      "None None\n"
     ]
    }
   ],
   "source": [
    "print (df.groupBy('oil_gas_company').count().orderBy('count',ascending=False).show(10,False),\n",
    "       indexed.groupBy('company_no').count().orderBy('count',ascending=False).show(10,False))"
   ]
  },
  {
   "cell_type": "markdown",
   "metadata": {},
   "source": [
    "## Spliting The Data Set\n",
    "We split it into a 80 to 20 ratio to train the model and test its accuracy"
   ]
  },
  {
   "cell_type": "code",
   "execution_count": 15,
   "metadata": {},
   "outputs": [
    {
     "name": "stdout",
     "output_type": "stream",
     "text": [
      "Training set 4325\n",
      "Testing set 1061\n"
     ]
    }
   ],
   "source": [
    "train,test=indexed.randomSplit([0.8,0.2])\n",
    "print(\"Training set\", train.count())\n",
    "print(\"Testing set\", test.count())"
   ]
  },
  {
   "cell_type": "markdown",
   "metadata": {},
   "source": [
    "##  Building and Training the Model"
   ]
  },
  {
   "cell_type": "code",
   "execution_count": 16,
   "metadata": {},
   "outputs": [],
   "source": [
    "from pyspark.ml.recommendation import ALS\n",
    "rec=ALS(maxIter=10,regParam=0.01,userCol='userId',itemCol='company_no',ratingCol='rating',nonnegative=True)\n",
    "rec_model = rec.fit(train)"
   ]
  },
  {
   "cell_type": "markdown",
   "metadata": {},
   "source": [
    "### Performance evaluation on our test data\n",
    "Here we will chack the performance of our model on unseen data."
   ]
  },
  {
   "cell_type": "code",
   "execution_count": 17,
   "metadata": {},
   "outputs": [
    {
     "name": "stdout",
     "output_type": "stream",
     "text": [
      "root\n",
      " |-- userId: integer (nullable = true)\n",
      " |-- oil_gas_company: string (nullable = true)\n",
      " |-- rating: integer (nullable = true)\n",
      " |-- company_no: double (nullable = false)\n",
      " |-- prediction: float (nullable = false)\n",
      "\n"
     ]
    }
   ],
   "source": [
    "predict_ratings = rec_model.transform(test)\n",
    "predict_ratings.printSchema()"
   ]
  },
  {
   "cell_type": "code",
   "execution_count": 18,
   "metadata": {},
   "outputs": [
    {
     "name": "stdout",
     "output_type": "stream",
     "text": [
      "+------+---------------+------+----------+----------+\n",
      "|userId|oil_gas_company|rating|company_no|prediction|\n",
      "+------+---------------+------+----------+----------+\n",
      "|   471|   Bluevale gas|     3|      28.0| 3.2815936|\n",
      "|   577|   Bluevale gas|     3|      28.0|  3.909167|\n",
      "|    13|   Bluevale gas|     4|      28.0| 2.5660963|\n",
      "|   314|   Bluevale gas|     5|      28.0| 4.9225645|\n",
      "|   771|   Bluevale gas|     4|      28.0| 3.8473582|\n",
      "|    95|   Bluevale gas|     1|      28.0| 2.4544296|\n",
      "|   712|   Bluevale gas|     5|      28.0| 3.5826695|\n",
      "|   892|   Bluevale gas|     4|      28.0| 4.2607064|\n",
      "|   311|   Bluevale gas|     2|      28.0| 3.7062418|\n",
      "|   174|   Bluevale gas|     1|      28.0|  2.545432|\n",
      "+------+---------------+------+----------+----------+\n",
      "only showing top 10 rows\n",
      "\n"
     ]
    }
   ],
   "source": [
    "predict_ratings.show(10)"
   ]
  },
  {
   "cell_type": "code",
   "execution_count": 19,
   "metadata": {},
   "outputs": [
    {
     "name": "stdout",
     "output_type": "stream",
     "text": [
      "nan\n"
     ]
    }
   ],
   "source": [
    "from pyspark.ml.evaluation import RegressionEvaluator\n",
    "evaluator = RegressionEvaluator(metricName = 'rmse', predictionCol = 'prediction', labelCol = 'rating')\n",
    "rmse = evaluator.evaluate(predict_ratings)\n",
    "print(rmse)"
   ]
  },
  {
   "cell_type": "markdown",
   "metadata": {},
   "source": [
    "##### The rmse is non we can equate this to zero meaning there is no error."
   ]
  },
  {
   "cell_type": "markdown",
   "metadata": {},
   "source": [
    "### Recommend Top Movies That Active User Might Like\n",
    "The first step is to create a list of unique movies in the dataframe."
   ]
  },
  {
   "cell_type": "code",
   "execution_count": 20,
   "metadata": {},
   "outputs": [
    {
     "data": {
      "text/plain": [
       "31"
      ]
     },
     "execution_count": 20,
     "metadata": {},
     "output_type": "execute_result"
    }
   ],
   "source": [
    "unique_movies=indexed.select('company_no').distinct()\n",
    "unique_movies.count() ## Total numbe rof individual movies in our new dataframe"
   ]
  },
  {
   "cell_type": "code",
   "execution_count": 21,
   "metadata": {},
   "outputs": [],
   "source": [
    "a = unique_movies.alias('a')"
   ]
  },
  {
   "cell_type": "markdown",
   "metadata": {},
   "source": [
    "#### We can select any user within the dataset for which we need to recommend other movies. In our case, we go ahead with userId = 96."
   ]
  },
  {
   "cell_type": "markdown",
   "metadata": {},
   "source": [
    "#### We will filter the movies that this active user has already rated or seen."
   ]
  },
  {
   "cell_type": "code",
   "execution_count": 22,
   "metadata": {},
   "outputs": [
    {
     "data": {
      "text/plain": [
       "7"
      ]
     },
     "execution_count": 22,
     "metadata": {},
     "output_type": "execute_result"
    }
   ],
   "source": [
    "user_id=96\n",
    "watched_movies=indexed.filter(indexed['userId'] == user_id).select('company_no').distinct()\n",
    "watched_movies.count() # Number of movies the user has watched"
   ]
  },
  {
   "cell_type": "code",
   "execution_count": 23,
   "metadata": {},
   "outputs": [],
   "source": [
    "b=watched_movies.alias('b')"
   ]
  },
  {
   "cell_type": "markdown",
   "metadata": {},
   "source": [
    "#### So, there are total of 56 unique movies out of 1,664 movies that this active user has already rated. So, we would want to recommend movies from the remaining 1608 movies."
   ]
  },
  {
   "cell_type": "code",
   "execution_count": 25,
   "metadata": {},
   "outputs": [
    {
     "name": "stdout",
     "output_type": "stream",
     "text": [
      "+----------+----------+\n",
      "|company_no|company_no|\n",
      "+----------+----------+\n",
      "|       8.0|       8.0|\n",
      "|       0.0|       0.0|\n",
      "|       7.0|      null|\n",
      "|      29.0|      null|\n",
      "|      18.0|      null|\n",
      "|       1.0|       1.0|\n",
      "|      25.0|      null|\n",
      "|       4.0|      null|\n",
      "|      23.0|      null|\n",
      "|      11.0|      11.0|\n",
      "|      21.0|      null|\n",
      "|      14.0|      null|\n",
      "|      22.0|      null|\n",
      "|       3.0|      null|\n",
      "|      19.0|      null|\n",
      "|      28.0|      null|\n",
      "|       2.0|      null|\n",
      "|      17.0|      null|\n",
      "|      27.0|      null|\n",
      "|      10.0|      null|\n",
      "+----------+----------+\n",
      "only showing top 20 rows\n",
      "\n"
     ]
    }
   ],
   "source": [
    "total_movies = a.join(b, a.company_no == b.company_no,how='left')\n",
    "total_movies.show()"
   ]
  },
  {
   "cell_type": "code",
   "execution_count": 27,
   "metadata": {},
   "outputs": [
    {
     "data": {
      "text/plain": [
       "24"
      ]
     },
     "execution_count": 27,
     "metadata": {},
     "output_type": "execute_result"
    }
   ],
   "source": [
    "remaining_movies=total_movies.where(col(\"b.company_no\").isNull()).select(a.company_no).distinct()\n",
    "remaining_movies.count()"
   ]
  },
  {
   "cell_type": "code",
   "execution_count": 28,
   "metadata": {},
   "outputs": [
    {
     "name": "stdout",
     "output_type": "stream",
     "text": [
      "+----------+------+\n",
      "|company_no|userId|\n",
      "+----------+------+\n",
      "|7.0       |96    |\n",
      "|29.0      |96    |\n",
      "|18.0      |96    |\n",
      "|25.0      |96    |\n",
      "|4.0       |96    |\n",
      "|23.0      |96    |\n",
      "|21.0      |96    |\n",
      "|14.0      |96    |\n",
      "|22.0      |96    |\n",
      "|3.0       |96    |\n",
      "+----------+------+\n",
      "only showing top 10 rows\n",
      "\n"
     ]
    }
   ],
   "source": [
    "remaining_movies=remaining_movies.withColumn(\"userId\",lit(int(user_id)))\n",
    "remaining_movies.show(10, False)"
   ]
  },
  {
   "cell_type": "markdown",
   "metadata": {},
   "source": [
    "### Finally, we can now make the predictions on this remaining movie’s dataset for the active user using the recommender model that we built earlier. We filter only a few top recommendations that have the highest predicted ratings."
   ]
  },
  {
   "cell_type": "code",
   "execution_count": 29,
   "metadata": {},
   "outputs": [
    {
     "name": "stdout",
     "output_type": "stream",
     "text": [
      "+----------+------+----------+\n",
      "|company_no|userId|prediction|\n",
      "+----------+------+----------+\n",
      "|22.0      |96    |6.3537607 |\n",
      "|18.0      |96    |6.317786  |\n",
      "|3.0       |96    |6.0053926 |\n",
      "|16.0      |96    |5.924051  |\n",
      "|25.0      |96    |5.284143  |\n",
      "|2.0       |96    |5.1653776 |\n",
      "|4.0       |96    |5.0898423 |\n",
      "|23.0      |96    |4.867482  |\n",
      "|15.0      |96    |4.7191076 |\n",
      "|12.0      |96    |4.6622024 |\n",
      "|17.0      |96    |4.6519527 |\n",
      "|14.0      |96    |4.1190066 |\n",
      "|29.0      |96    |3.5772333 |\n",
      "|21.0      |96    |3.4781663 |\n",
      "|19.0      |96    |3.3091264 |\n",
      "|13.0      |96    |3.2998471 |\n",
      "|27.0      |96    |3.2995825 |\n",
      "|30.0      |96    |3.2968261 |\n",
      "|24.0      |96    |3.2274218 |\n",
      "|20.0      |96    |3.0360923 |\n",
      "|10.0      |96    |3.0055346 |\n",
      "|7.0       |96    |2.749645  |\n",
      "|28.0      |96    |2.697393  |\n",
      "|5.0       |96    |2.3718653 |\n",
      "+----------+------+----------+\n",
      "\n"
     ]
    }
   ],
   "source": [
    "recommendations = rec_model.transform(remaining_movies).orderBy('prediction', ascending = False)\n",
    "recommendations.show(100, False)"
   ]
  },
  {
   "cell_type": "markdown",
   "metadata": {},
   "source": [
    "### Let us add the movie title to the recommendations"
   ]
  },
  {
   "cell_type": "code",
   "execution_count": 30,
   "metadata": {},
   "outputs": [
    {
     "name": "stdout",
     "output_type": "stream",
     "text": [
      "+----------+------+----------+------------------------+\n",
      "|company_no|userId|prediction|oil_gas_company         |\n",
      "+----------+------+----------+------------------------+\n",
      "|22.0      |96    |6.3537607 |Lake Oil                |\n",
      "|18.0      |96    |6.317786  |Shell                   |\n",
      "|3.0       |96    |6.0053926 |National Oil of Naigeria|\n",
      "|16.0      |96    |5.924051  |Vivo                    |\n",
      "|25.0      |96    |5.284143  |Pro gas                 |\n",
      "|2.0       |96    |5.1653776 |Nairobi Oil             |\n",
      "|4.0       |96    |5.0898423 |Total                   |\n",
      "|23.0      |96    |4.867482  |Nyerere gas             |\n",
      "|15.0      |96    |4.7191076 |Abuja Oil               |\n",
      "|12.0      |96    |4.6622024 |K gas                   |\n",
      "|17.0      |96    |4.6519527 |Sahara Pride            |\n",
      "|14.0      |96    |4.1190066 |Abuja gas               |\n",
      "|29.0      |96    |3.5772333 |Pwani Oil               |\n",
      "|21.0      |96    |3.4781663 |Oillibya                |\n",
      "|19.0      |96    |3.3091264 |Vpower Mombasa          |\n",
      "|13.0      |96    |3.2998471 |Oil Uganda              |\n",
      "|27.0      |96    |3.2995825 |Vpower                  |\n",
      "|30.0      |96    |3.2968261 |Taifa gas               |\n",
      "|24.0      |96    |3.2274218 |Amani gas               |\n",
      "|20.0      |96    |3.0360923 |National Oil of Kenya   |\n",
      "|10.0      |96    |3.0055346 |Dangote Gas             |\n",
      "|7.0       |96    |2.749645  |Arrow Gas               |\n",
      "|28.0      |96    |2.697393  |Bluevale gas            |\n",
      "|5.0       |96    |2.3718653 |Twister Oil             |\n",
      "+----------+------+----------+------------------------+\n",
      "\n"
     ]
    }
   ],
   "source": [
    "movie_title = IndexToString(inputCol=\"company_no\",outputCol=\"oil_gas_company\",labels=model.labels)\n",
    "final_recommendations=movie_title.transform(recommendations)\n",
    "final_recommendations.show(100,False)"
   ]
  },
  {
   "cell_type": "markdown",
   "metadata": {},
   "source": [
    "### Thats it guys\n",
    "### A simple collaborative filtering based recommender system in PySpark using the ALS method to recommend movies to the users\n",
    "\n",
    "### Bye"
   ]
  },
  {
   "cell_type": "code",
   "execution_count": 4,
   "metadata": {},
   "outputs": [],
   "source": []
  }
 ],
 "metadata": {
  "kernelspec": {
   "display_name": "Python 3 (ipykernel)",
   "language": "python",
   "name": "python3"
  },
  "language_info": {
   "codemirror_mode": {
    "name": "ipython",
    "version": 3
   },
   "file_extension": ".py",
   "mimetype": "text/x-python",
   "name": "python",
   "nbconvert_exporter": "python",
   "pygments_lexer": "ipython3",
   "version": "3.9.16"
  }
 },
 "nbformat": 4,
 "nbformat_minor": 2
}
