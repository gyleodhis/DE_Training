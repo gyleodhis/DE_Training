{
 "cells": [
  {
   "cell_type": "markdown",
   "metadata": {},
   "source": [
    "# A Recommender System Using >>Apache Spark 2.4\n",
    "### Predictive Analytics\n",
    "#### Licence:\n",
    "You can use this code for anything you may wish only leave this page:\n",
    "#### AS IS; HOW IS, WHERE IS"
   ]
  },
  {
   "cell_type": "code",
   "execution_count": 1,
   "metadata": {},
   "outputs": [],
   "source": [
    "from pyspark.sql import SparkSession\n",
    "spark = SparkSession.builder.master('spark://192.168.8.130:7077').appName('Recommender System').getOrCreate()"
   ]
  },
  {
   "cell_type": "markdown",
   "metadata": {},
   "source": [
    "### Reading the Dataset"
   ]
  },
  {
   "cell_type": "code",
   "execution_count": 25,
   "metadata": {},
   "outputs": [
    {
     "name": "stdout",
     "output_type": "stream",
     "text": [
      "+------+------------+------+\n",
      "|userId|       title|rating|\n",
      "+------+------------+------+\n",
      "|   196|Kolya (1996)|     3|\n",
      "|    63|Kolya (1996)|     3|\n",
      "|   226|Kolya (1996)|     5|\n",
      "|   154|Kolya (1996)|     3|\n",
      "|   306|Kolya (1996)|     5|\n",
      "|   296|Kolya (1996)|     4|\n",
      "|    34|Kolya (1996)|     5|\n",
      "|   271|Kolya (1996)|     4|\n",
      "|   201|Kolya (1996)|     4|\n",
      "|   209|Kolya (1996)|     4|\n",
      "+------+------------+------+\n",
      "only showing top 10 rows\n",
      "\n"
     ]
    }
   ],
   "source": [
    "df = spark.read.csv('./static/movie_ratings_df.csv', inferSchema=True, header=True)\n",
    "df.show(10, True) # Pulls the fist ten rows of the dataset"
   ]
  },
  {
   "cell_type": "markdown",
   "metadata": {},
   "source": [
    "### Data size in terms of rows and records"
   ]
  },
  {
   "cell_type": "code",
   "execution_count": 26,
   "metadata": {},
   "outputs": [
    {
     "name": "stdout",
     "output_type": "stream",
     "text": [
      "(100000, 3)\n"
     ]
    }
   ],
   "source": [
    "print((df.count(), len(df.columns)))"
   ]
  },
  {
   "cell_type": "markdown",
   "metadata": {},
   "source": [
    "Our Dataset contains 100,000 records with only three columns"
   ]
  },
  {
   "cell_type": "markdown",
   "metadata": {},
   "source": [
    "Data Schema"
   ]
  },
  {
   "cell_type": "code",
   "execution_count": 27,
   "metadata": {},
   "outputs": [
    {
     "name": "stdout",
     "output_type": "stream",
     "text": [
      "root\n",
      " |-- userId: integer (nullable = true)\n",
      " |-- title: string (nullable = true)\n",
      " |-- rating: integer (nullable = true)\n",
      "\n"
     ]
    }
   ],
   "source": [
    "df.printSchema()"
   ]
  },
  {
   "cell_type": "markdown",
   "metadata": {},
   "source": [
    "#### Two of the columns are Numerical while title column is categorical"
   ]
  },
  {
   "cell_type": "markdown",
   "metadata": {},
   "source": [
    "#### Top users by number of moviers rated"
   ]
  },
  {
   "cell_type": "code",
   "execution_count": 28,
   "metadata": {},
   "outputs": [
    {
     "name": "stdout",
     "output_type": "stream",
     "text": [
      "+------+-----+\n",
      "|userId|count|\n",
      "+------+-----+\n",
      "|405   |737  |\n",
      "|655   |685  |\n",
      "|13    |636  |\n",
      "|450   |540  |\n",
      "|276   |518  |\n",
      "|416   |493  |\n",
      "|537   |490  |\n",
      "|303   |484  |\n",
      "|234   |480  |\n",
      "|393   |448  |\n",
      "+------+-----+\n",
      "only showing top 10 rows\n",
      "\n"
     ]
    }
   ],
   "source": [
    "df.groupBy('userId').count().orderBy('count', ascending=False).show(10, False)"
   ]
  },
  {
   "cell_type": "markdown",
   "metadata": {},
   "source": [
    "#### Bottom users by number of moviers rated"
   ]
  },
  {
   "cell_type": "code",
   "execution_count": 29,
   "metadata": {},
   "outputs": [
    {
     "name": "stdout",
     "output_type": "stream",
     "text": [
      "+------+-----+\n",
      "|userId|count|\n",
      "+------+-----+\n",
      "|732   |20   |\n",
      "|636   |20   |\n",
      "|572   |20   |\n",
      "|685   |20   |\n",
      "|631   |20   |\n",
      "|34    |20   |\n",
      "|596   |20   |\n",
      "|926   |20   |\n",
      "|93    |20   |\n",
      "|300   |20   |\n",
      "+------+-----+\n",
      "only showing top 10 rows\n",
      "\n"
     ]
    }
   ],
   "source": [
    "df.groupBy('userId').count().orderBy('count', ascending=True).show(10, False)"
   ]
  },
  {
   "cell_type": "markdown",
   "metadata": {},
   "source": [
    "## Feature Engineering"
   ]
  },
  {
   "cell_type": "code",
   "execution_count": 30,
   "metadata": {},
   "outputs": [],
   "source": [
    "from pyspark.sql.functions import *\n",
    "from pyspark.ml.feature import StringIndexer, IndexToString"
   ]
  },
  {
   "cell_type": "markdown",
   "metadata": {},
   "source": [
    "#### So now we create the stringindexer object by mentioning the input column and output column."
   ]
  },
  {
   "cell_type": "code",
   "execution_count": 31,
   "metadata": {},
   "outputs": [
    {
     "name": "stdout",
     "output_type": "stream",
     "text": [
      "+------+------------+------+---------+\n",
      "|userId|title       |rating|New_Title|\n",
      "+------+------------+------+---------+\n",
      "|196   |Kolya (1996)|3     |287.0    |\n",
      "|63    |Kolya (1996)|3     |287.0    |\n",
      "|226   |Kolya (1996)|5     |287.0    |\n",
      "|154   |Kolya (1996)|3     |287.0    |\n",
      "|306   |Kolya (1996)|5     |287.0    |\n",
      "|296   |Kolya (1996)|4     |287.0    |\n",
      "|34    |Kolya (1996)|5     |287.0    |\n",
      "|271   |Kolya (1996)|4     |287.0    |\n",
      "|201   |Kolya (1996)|4     |287.0    |\n",
      "|209   |Kolya (1996)|4     |287.0    |\n",
      "+------+------------+------+---------+\n",
      "only showing top 10 rows\n",
      "\n"
     ]
    }
   ],
   "source": [
    "stringIndexer = StringIndexer(inputCol='title',outputCol='New_Title')\n",
    "model = stringIndexer.fit(df)\n",
    "indexed = model.transform(df)\n",
    "indexed.show(10, False)"
   ]
  },
  {
   "cell_type": "code",
   "execution_count": 32,
   "metadata": {},
   "outputs": [
    {
     "name": "stdout",
     "output_type": "stream",
     "text": [
      "+-----------------------------+-----+\n",
      "|title                        |count|\n",
      "+-----------------------------+-----+\n",
      "|Star Wars (1977)             |583  |\n",
      "|Contact (1997)               |509  |\n",
      "|Fargo (1996)                 |508  |\n",
      "|Return of the Jedi (1983)    |507  |\n",
      "|Liar Liar (1997)             |485  |\n",
      "|English Patient, The (1996)  |481  |\n",
      "|Scream (1996)                |478  |\n",
      "|Toy Story (1995)             |452  |\n",
      "|Air Force One (1997)         |431  |\n",
      "|Independence Day (ID4) (1996)|429  |\n",
      "+-----------------------------+-----+\n",
      "only showing top 10 rows\n",
      "\n",
      "+---------+-----+\n",
      "|New_Title|count|\n",
      "+---------+-----+\n",
      "|0.0      |583  |\n",
      "|1.0      |509  |\n",
      "|2.0      |508  |\n",
      "|3.0      |507  |\n",
      "|4.0      |485  |\n",
      "|5.0      |481  |\n",
      "|6.0      |478  |\n",
      "|7.0      |452  |\n",
      "|8.0      |431  |\n",
      "|9.0      |429  |\n",
      "+---------+-----+\n",
      "only showing top 10 rows\n",
      "\n",
      "None None\n"
     ]
    }
   ],
   "source": [
    "print (df.groupBy('title').count().orderBy('count',ascending=False).show(10,False),\n",
    "       indexed.groupBy('New_Title').count().orderBy('count',ascending=False).show(10,False))"
   ]
  },
  {
   "cell_type": "markdown",
   "metadata": {},
   "source": [
    "## Pliting The Data Set\n",
    "We split it into a 80 to 20 ratio to train the model and test its accuracy"
   ]
  },
  {
   "cell_type": "code",
   "execution_count": 33,
   "metadata": {},
   "outputs": [
    {
     "name": "stdout",
     "output_type": "stream",
     "text": [
      "Training set 80075\n",
      "Testing set 19925\n"
     ]
    }
   ],
   "source": [
    "train,test=indexed.randomSplit([0.8,0.2])\n",
    "print(\"Training set\", train.count())\n",
    "print(\"Testing set\", test.count())"
   ]
  },
  {
   "cell_type": "markdown",
   "metadata": {},
   "source": [
    "##  Building and Training the Model"
   ]
  },
  {
   "cell_type": "code",
   "execution_count": 34,
   "metadata": {},
   "outputs": [],
   "source": [
    "from pyspark.ml.recommendation import ALS\n",
    "rec=ALS(maxIter=10,regParam=0.01,userCol='userId',itemCol='New_Title',ratingCol='rating',nonnegative=True)\n",
    "rec_model = rec.fit(train)"
   ]
  },
  {
   "cell_type": "markdown",
   "metadata": {},
   "source": [
    "### Performance evaluation on our test data\n",
    "Here we will chack the performance of our model on unseen data."
   ]
  },
  {
   "cell_type": "code",
   "execution_count": 35,
   "metadata": {},
   "outputs": [
    {
     "name": "stdout",
     "output_type": "stream",
     "text": [
      "root\n",
      " |-- userId: integer (nullable = true)\n",
      " |-- title: string (nullable = true)\n",
      " |-- rating: integer (nullable = true)\n",
      " |-- New_Title: double (nullable = false)\n",
      " |-- prediction: float (nullable = false)\n",
      "\n"
     ]
    }
   ],
   "source": [
    "predict_ratings = rec_model.transform(test)\n",
    "predict_ratings.printSchema()"
   ]
  },
  {
   "cell_type": "code",
   "execution_count": 36,
   "metadata": {},
   "outputs": [
    {
     "name": "stdout",
     "output_type": "stream",
     "text": [
      "+------+--------------------+------+---------+----------+\n",
      "|userId|               title|rating|New_Title|prediction|\n",
      "+------+--------------------+------+---------+----------+\n",
      "|   593|Much Ado About No...|     5|    148.0|  4.461378|\n",
      "|   497|Much Ado About No...|     2|    148.0|  4.042518|\n",
      "|   844|Much Ado About No...|     5|    148.0|  4.516927|\n",
      "|   707|Much Ado About No...|     3|    148.0| 4.3230314|\n",
      "|   660|Much Ado About No...|     3|    148.0|   3.16418|\n",
      "|     1|Much Ado About No...|     3|    148.0| 4.4556293|\n",
      "|   429|Much Ado About No...|     4|    148.0|  4.284988|\n",
      "|   292|Much Ado About No...|     5|    148.0| 4.4326243|\n",
      "|    96|Much Ado About No...|     3|    148.0|  4.192071|\n",
      "|   452|Much Ado About No...|     3|    148.0|  4.091294|\n",
      "+------+--------------------+------+---------+----------+\n",
      "only showing top 10 rows\n",
      "\n"
     ]
    }
   ],
   "source": [
    "predict_ratings.show(10)"
   ]
  },
  {
   "cell_type": "code",
   "execution_count": 37,
   "metadata": {},
   "outputs": [
    {
     "name": "stdout",
     "output_type": "stream",
     "text": [
      "nan\n"
     ]
    }
   ],
   "source": [
    "from pyspark.ml.evaluation import RegressionEvaluator\n",
    "evaluator = RegressionEvaluator(metricName = 'rmse', predictionCol = 'prediction', labelCol = 'rating')\n",
    "rmse = evaluator.evaluate(predict_ratings)\n",
    "print(rmse)"
   ]
  },
  {
   "cell_type": "markdown",
   "metadata": {},
   "source": [
    "##### The rmse is non we can equate this to zero meaning there is no error."
   ]
  },
  {
   "cell_type": "markdown",
   "metadata": {},
   "source": [
    "### Recommend Top Movies That Active User Might Like\n",
    "The first step is to create a list of unique movies in the dataframe."
   ]
  },
  {
   "cell_type": "code",
   "execution_count": 38,
   "metadata": {},
   "outputs": [
    {
     "data": {
      "text/plain": [
       "1664"
      ]
     },
     "execution_count": 38,
     "metadata": {},
     "output_type": "execute_result"
    }
   ],
   "source": [
    "unique_movies=indexed.select('New_Title').distinct()\n",
    "unique_movies.count() ## Total numbe rof individual movies in our new dataframe"
   ]
  },
  {
   "cell_type": "code",
   "execution_count": 39,
   "metadata": {},
   "outputs": [],
   "source": [
    "a = unique_movies.alias('a')"
   ]
  },
  {
   "cell_type": "markdown",
   "metadata": {},
   "source": [
    "#### We can select any user within the dataset for which we need to recommend other movies. In our case, we go ahead with userId = 96."
   ]
  },
  {
   "cell_type": "markdown",
   "metadata": {},
   "source": [
    "#### We will filter the movies that this active user has already rated or seen."
   ]
  },
  {
   "cell_type": "code",
   "execution_count": 40,
   "metadata": {},
   "outputs": [
    {
     "data": {
      "text/plain": [
       "56"
      ]
     },
     "execution_count": 40,
     "metadata": {},
     "output_type": "execute_result"
    }
   ],
   "source": [
    "user_id=96\n",
    "watched_movies=indexed.filter(indexed['userId'] == user_id).select('New_Title').distinct()\n",
    "watched_movies.count() # Number of movies the user has watched"
   ]
  },
  {
   "cell_type": "code",
   "execution_count": 41,
   "metadata": {},
   "outputs": [],
   "source": [
    "b=watched_movies.alias('b')"
   ]
  },
  {
   "cell_type": "markdown",
   "metadata": {},
   "source": [
    "#### So, there are total of 56 unique movies out of 1,664 movies that this active user has already rated. So, we would want to recommend movies from the remaining 1608 movies."
   ]
  },
  {
   "cell_type": "code",
   "execution_count": 42,
   "metadata": {},
   "outputs": [
    {
     "name": "stdout",
     "output_type": "stream",
     "text": [
      "+---------+---------+\n",
      "|New_Title|New_Title|\n",
      "+---------+---------+\n",
      "|    305.0|     null|\n",
      "|    596.0|     null|\n",
      "|    299.0|     null|\n",
      "|    769.0|     null|\n",
      "|    692.0|     null|\n",
      "|    934.0|     null|\n",
      "|   1051.0|     null|\n",
      "|    496.0|     null|\n",
      "|    558.0|     null|\n",
      "|    170.0|     null|\n",
      "|    184.0|     null|\n",
      "|    576.0|     null|\n",
      "|    147.0|     null|\n",
      "|    810.0|     null|\n",
      "|    720.0|     null|\n",
      "|    782.0|     null|\n",
      "|   1369.0|     null|\n",
      "|   1587.0|     null|\n",
      "|    160.0|     null|\n",
      "|    608.0|     null|\n",
      "+---------+---------+\n",
      "only showing top 20 rows\n",
      "\n"
     ]
    }
   ],
   "source": [
    "total_movies = a.join(b, a.New_Title == b.New_Title,how='left')\n",
    "total_movies.show()"
   ]
  },
  {
   "cell_type": "code",
   "execution_count": 43,
   "metadata": {},
   "outputs": [
    {
     "data": {
      "text/plain": [
       "1608"
      ]
     },
     "execution_count": 43,
     "metadata": {},
     "output_type": "execute_result"
    }
   ],
   "source": [
    "remaining_movies=total_movies.where(col(\"b.New_Title\").isNull()).select(a.New_Title).distinct()\n",
    "remaining_movies.count()"
   ]
  },
  {
   "cell_type": "code",
   "execution_count": 44,
   "metadata": {},
   "outputs": [
    {
     "name": "stdout",
     "output_type": "stream",
     "text": [
      "+---------+------+\n",
      "|New_Title|userId|\n",
      "+---------+------+\n",
      "|305.0    |96    |\n",
      "|596.0    |96    |\n",
      "|299.0    |96    |\n",
      "|769.0    |96    |\n",
      "|692.0    |96    |\n",
      "|934.0    |96    |\n",
      "|1051.0   |96    |\n",
      "|496.0    |96    |\n",
      "|558.0    |96    |\n",
      "|170.0    |96    |\n",
      "+---------+------+\n",
      "only showing top 10 rows\n",
      "\n"
     ]
    }
   ],
   "source": [
    "remaining_movies=remaining_movies.withColumn(\"userId\",lit(int(user_id)))\n",
    "remaining_movies.show(10, False)"
   ]
  },
  {
   "cell_type": "markdown",
   "metadata": {},
   "source": [
    "### Finally, we can now make the predictions on this remaining movie’s dataset for the active user using the recommender model that we built earlier. We filter only a few top recommendations that have the highest predicted ratings."
   ]
  },
  {
   "cell_type": "code",
   "execution_count": 45,
   "metadata": {},
   "outputs": [
    {
     "name": "stdout",
     "output_type": "stream",
     "text": [
      "+---------+------+----------+\n",
      "|New_Title|userId|prediction|\n",
      "+---------+------+----------+\n",
      "|1572.0   |96    |NaN       |\n",
      "|1483.0   |96    |NaN       |\n",
      "|1577.0   |96    |NaN       |\n",
      "|1631.0   |96    |NaN       |\n",
      "|1554.0   |96    |NaN       |\n",
      "|1613.0   |96    |NaN       |\n",
      "|1567.0   |96    |NaN       |\n",
      "|1574.0   |96    |NaN       |\n",
      "|1585.0   |96    |NaN       |\n",
      "|1575.0   |96    |NaN       |\n",
      "|1589.0   |96    |NaN       |\n",
      "|1544.0   |96    |NaN       |\n",
      "|1591.0   |96    |NaN       |\n",
      "|1400.0   |96    |NaN       |\n",
      "|1602.0   |96    |NaN       |\n",
      "|1660.0   |96    |NaN       |\n",
      "|1461.0   |96    |NaN       |\n",
      "|1601.0   |96    |NaN       |\n",
      "|1568.0   |96    |NaN       |\n",
      "|1549.0   |96    |NaN       |\n",
      "|1624.0   |96    |NaN       |\n",
      "|1536.0   |96    |NaN       |\n",
      "|1644.0   |96    |NaN       |\n",
      "|1600.0   |96    |NaN       |\n",
      "|1557.0   |96    |NaN       |\n",
      "|1560.0   |96    |NaN       |\n",
      "|1540.0   |96    |NaN       |\n",
      "|1558.0   |96    |NaN       |\n",
      "|1466.0   |96    |NaN       |\n",
      "|1347.0   |96    |9.452741  |\n",
      "|1370.0   |96    |7.1758423 |\n",
      "|1281.0   |96    |6.9861555 |\n",
      "|950.0    |96    |6.888296  |\n",
      "|1177.0   |96    |6.7395506 |\n",
      "|471.0    |96    |6.71192   |\n",
      "|459.0    |96    |6.627041  |\n",
      "|928.0    |96    |6.621258  |\n",
      "|1323.0   |96    |6.432167  |\n",
      "|1277.0   |96    |6.3568134 |\n",
      "|1376.0   |96    |6.3001647 |\n",
      "|1091.0   |96    |6.250085  |\n",
      "|1178.0   |96    |6.235916  |\n",
      "|1123.0   |96    |6.217696  |\n",
      "|1495.0   |96    |6.2090087 |\n",
      "|665.0    |96    |6.1784697 |\n",
      "|1195.0   |96    |6.159228  |\n",
      "|1197.0   |96    |6.129543  |\n",
      "|1410.0   |96    |6.0497847 |\n",
      "|988.0    |96    |6.0457335 |\n",
      "|1083.0   |96    |5.97999   |\n",
      "|860.0    |96    |5.9151907 |\n",
      "|952.0    |96    |5.8984175 |\n",
      "|749.0    |96    |5.8944654 |\n",
      "|1411.0   |96    |5.858414  |\n",
      "|993.0    |96    |5.8405433 |\n",
      "|728.0    |96    |5.838285  |\n",
      "|884.0    |96    |5.8318896 |\n",
      "|1263.0   |96    |5.8277636 |\n",
      "|1248.0   |96    |5.819329  |\n",
      "|1056.0   |96    |5.7886176 |\n",
      "|1422.0   |96    |5.7869596 |\n",
      "|740.0    |96    |5.7835155 |\n",
      "|446.0    |96    |5.777263  |\n",
      "|959.0    |96    |5.7743244 |\n",
      "|1219.0   |96    |5.773706  |\n",
      "|606.0    |96    |5.753136  |\n",
      "|1260.0   |96    |5.7333155 |\n",
      "|679.0    |96    |5.729176  |\n",
      "|1003.0   |96    |5.709818  |\n",
      "|909.0    |96    |5.6953783 |\n",
      "|953.0    |96    |5.670443  |\n",
      "|813.0    |96    |5.6680746 |\n",
      "|1064.0   |96    |5.6670303 |\n",
      "|1296.0   |96    |5.663608  |\n",
      "|1170.0   |96    |5.6506195 |\n",
      "|1269.0   |96    |5.6414127 |\n",
      "|1023.0   |96    |5.639944  |\n",
      "|676.0    |96    |5.6070747 |\n",
      "|1416.0   |96    |5.596101  |\n",
      "|1117.0   |96    |5.583091  |\n",
      "|979.0    |96    |5.5798426 |\n",
      "|791.0    |96    |5.57907   |\n",
      "|566.0    |96    |5.578704  |\n",
      "|888.0    |96    |5.5597196 |\n",
      "|831.0    |96    |5.5437374 |\n",
      "|1086.0   |96    |5.5324907 |\n",
      "|1077.0   |96    |5.512061  |\n",
      "|680.0    |96    |5.4847217 |\n",
      "|829.0    |96    |5.471428  |\n",
      "|1287.0   |96    |5.4599333 |\n",
      "|1470.0   |96    |5.4412203 |\n",
      "|1518.0   |96    |5.4412203 |\n",
      "|1542.0   |96    |5.4412203 |\n",
      "|1517.0   |96    |5.4412203 |\n",
      "|1632.0   |96    |5.4412203 |\n",
      "|550.0    |96    |5.4333625 |\n",
      "|1074.0   |96    |5.426581  |\n",
      "|469.0    |96    |5.419879  |\n",
      "|863.0    |96    |5.40932   |\n",
      "|779.0    |96    |5.40678   |\n",
      "+---------+------+----------+\n",
      "only showing top 100 rows\n",
      "\n"
     ]
    }
   ],
   "source": [
    "recommendations = rec_model.transform(remaining_movies).orderBy('prediction', ascending = False)\n",
    "recommendations.show(100, False)"
   ]
  },
  {
   "cell_type": "markdown",
   "metadata": {},
   "source": [
    "### Let us add the movie title to the recommendations"
   ]
  },
  {
   "cell_type": "code",
   "execution_count": 46,
   "metadata": {},
   "outputs": [
    {
     "name": "stdout",
     "output_type": "stream",
     "text": [
      "+---------+------+----------+-----------------------------------------------------------+\n",
      "|New_Title|userId|prediction|title                                                      |\n",
      "+---------+------+----------+-----------------------------------------------------------+\n",
      "|1549.0   |96    |NaN       |Dadetown (1995)                                            |\n",
      "|1577.0   |96    |NaN       |Hungarian Fairy Tale, A (1987)                             |\n",
      "|1568.0   |96    |NaN       |Girls Town (1996)                                          |\n",
      "|1544.0   |96    |NaN       |Careful (1992)                                             |\n",
      "|1540.0   |96    |NaN       |Bloody Child, The (1996)                                   |\n",
      "|1536.0   |96    |NaN       |Baton Rouge (1988)                                         |\n",
      "|1466.0   |96    |NaN       |Babyfever (1994)                                           |\n",
      "|1461.0   |96    |NaN       |Wedding Gift, The (1994)                                   |\n",
      "|1560.0   |96    |NaN       |Farmer & Chase (1995)                                      |\n",
      "|1613.0   |96    |NaN       |Office Killer (1997)                                       |\n",
      "|1567.0   |96    |NaN       |Girl in the Cadillac (1995)                                |\n",
      "|1602.0   |96    |NaN       |Mirage (1995)                                              |\n",
      "|1585.0   |96    |NaN       |Killer: A Journal of Murder (1995)                         |\n",
      "|1400.0   |96    |NaN       |Two Deaths (1995)                                          |\n",
      "|1589.0   |96    |NaN       |Lashou shentan (1992)                                      |\n",
      "|1558.0   |96    |NaN       |Every Other Weekend (1990)                                 |\n",
      "|1624.0   |96    |NaN       |Scream of Stone (Schrei aus Stein) (1991)                  |\n",
      "|1554.0   |96    |NaN       |Desert Winds (1995)                                        |\n",
      "|1660.0   |96    |NaN       |Woman in Question, The (1950)                              |\n",
      "|1483.0   |96    |NaN       |Everest (1998)                                             |\n",
      "|1591.0   |96    |NaN       |Liebelei (1933)                                            |\n",
      "|1631.0   |96    |NaN       |Someone Else's America (1995)                              |\n",
      "|1600.0   |96    |NaN       |Mat' i syn (1997)                                          |\n",
      "|1572.0   |96    |NaN       |He Walked by Night (1948)                                  |\n",
      "|1644.0   |96    |NaN       |Tigrero: A Film That Was Never Made (1994)                 |\n",
      "|1557.0   |96    |NaN       |Etz Hadomim Tafus (Under the Domin Tree) (1994)            |\n",
      "|1575.0   |96    |NaN       |Homage (1995)                                              |\n",
      "|1601.0   |96    |NaN       |Mille bolle blu (1993)                                     |\n",
      "|1574.0   |96    |NaN       |Here Comes Cookie (1935)                                   |\n",
      "|1347.0   |96    |9.452741  |Angel Baby (1995)                                          |\n",
      "|1370.0   |96    |7.1758423 |Harlem (1993)                                              |\n",
      "|1281.0   |96    |6.9861555 |Promesse, La (1996)                                        |\n",
      "|950.0    |96    |6.888296  |Amateur (1994)                                             |\n",
      "|1177.0   |96    |6.7395506 |Winter Guest, The (1997)                                   |\n",
      "|471.0    |96    |6.71192   |Kull the Conqueror (1997)                                  |\n",
      "|459.0    |96    |6.627041  |Restoration (1995)                                         |\n",
      "|928.0    |96    |6.621258  |Paradise Lost: The Child Murders at Robin Hood Hills (1996)|\n",
      "|1323.0   |96    |6.432167  |Panther (1995)                                             |\n",
      "|1277.0   |96    |6.3568134 |Mina Tannenbaum (1994)                                     |\n",
      "|1376.0   |96    |6.3001647 |Killer (Bulletproof Heart) (1994)                          |\n",
      "|1091.0   |96    |6.250085  |Addiction, The (1995)                                      |\n",
      "|1178.0   |96    |6.235916  |unknown                                                    |\n",
      "|1123.0   |96    |6.217696  |Fear of a Black Hat (1993)                                 |\n",
      "|1495.0   |96    |6.2090087 |Love and Death on Long Island (1997)                       |\n",
      "|665.0    |96    |6.1784697 |Air Bud (1997)                                             |\n",
      "|1195.0   |96    |6.159228  |Love and a .45 (1994)                                      |\n",
      "|1197.0   |96    |6.129543  |Nadja (1994)                                               |\n",
      "|1410.0   |96    |6.0497847 |Bitter Sugar (Azucar Amargo) (1996)                        |\n",
      "|988.0    |96    |6.0457335 |Cabin Boy (1994)                                           |\n",
      "|1083.0   |96    |5.97999   |Stalingrad (1993)                                          |\n",
      "|860.0    |96    |5.9151907 |Naked (1993)                                               |\n",
      "|952.0    |96    |5.8984175 |Assignment, The (1997)                                     |\n",
      "|749.0    |96    |5.8944654 |Dead Man (1995)                                            |\n",
      "|1411.0   |96    |5.858414  |Boys, Les (1997)                                           |\n",
      "|993.0    |96    |5.8405433 |In the Bleak Midwinter (1995)                              |\n",
      "|728.0    |96    |5.838285  |Once Upon a Time in the West (1969)                        |\n",
      "|884.0    |96    |5.8318896 |Ruby in Paradise (1993)                                    |\n",
      "|1263.0   |96    |5.8277636 |City of Industry (1997)                                    |\n",
      "|1248.0   |96    |5.819329  |Thieves (Voleurs, Les) (1996)                              |\n",
      "|1056.0   |96    |5.7886176 |Roommates (1995)                                           |\n",
      "|1422.0   |96    |5.7869596 |Frisk (1995)                                               |\n",
      "|740.0    |96    |5.7835155 |Night on Earth (1991)                                      |\n",
      "|446.0    |96    |5.777263  |Heavy Metal (1981)                                         |\n",
      "|959.0    |96    |5.7743244 |Hate (Haine, La) (1995)                                    |\n",
      "|1219.0   |96    |5.773706  |Faster Pussycat! Kill! Kill! (1965)                        |\n",
      "|606.0    |96    |5.753136  |Bulletproof (1996)                                         |\n",
      "|1260.0   |96    |5.7333155 |Blood Beach (1981)                                         |\n",
      "|679.0    |96    |5.729176  |Flirting With Disaster (1996)                              |\n",
      "|1003.0   |96    |5.709818  |April Fool's Day (1986)                                    |\n",
      "|909.0    |96    |5.6953783 |Funny Face (1957)                                          |\n",
      "|953.0    |96    |5.670443  |Beyond Rangoon (1995)                                      |\n",
      "|813.0    |96    |5.6680746 |Blues Brothers 2000 (1998)                                 |\n",
      "|1064.0   |96    |5.6670303 |Audrey Rose (1977)                                         |\n",
      "|1296.0   |96    |5.663608  |Best Men (1997)                                            |\n",
      "|1170.0   |96    |5.6506195 |Three Wishes (1995)                                        |\n",
      "|1269.0   |96    |5.6414127 |Gabbeh (1996)                                              |\n",
      "|1023.0   |96    |5.639944  |Women, The (1939)                                          |\n",
      "|676.0    |96    |5.6070747 |Wild Bunch, The (1969)                                     |\n",
      "|1416.0   |96    |5.596101  |C�r�monie, La (1995)                                       |\n",
      "|1117.0   |96    |5.583091  |Cement Garden, The (1993)                                  |\n",
      "|979.0    |96    |5.5798426 |Road to Wellville, The (1994)                              |\n",
      "|791.0    |96    |5.57907   |Timecop (1994)                                             |\n",
      "|566.0    |96    |5.578704  |Celluloid Closet, The (1995)                               |\n",
      "|888.0    |96    |5.5597196 |Until the End of the World (Bis ans Ende der Welt) (1991)  |\n",
      "|831.0    |96    |5.5437374 |Pollyanna (1960)                                           |\n",
      "|1086.0   |96    |5.5324907 |SubUrbia (1997)                                            |\n",
      "|1077.0   |96    |5.512061  |NeverEnding Story III, The (1994)                          |\n",
      "|680.0    |96    |5.4847217 |Freeway (1996)                                             |\n",
      "|829.0    |96    |5.471428  |My Man Godfrey (1936)                                      |\n",
      "|1287.0   |96    |5.4599333 |Van, The (1996)                                            |\n",
      "|1632.0   |96    |5.4412203 |Spanish Prisoner, The (1997)                               |\n",
      "|1542.0   |96    |5.4412203 |Brothers in Trouble (1995)                                 |\n",
      "|1517.0   |96    |5.4412203 |Slingshot, The (1993)                                      |\n",
      "|1470.0   |96    |5.4412203 |Butcher Boy, The (1998)                                    |\n",
      "|1518.0   |96    |5.4412203 |Some Mother's Son (1996)                                   |\n",
      "|550.0    |96    |5.4333625 |Last Supper, The (1995)                                    |\n",
      "|1074.0   |96    |5.426581  |Love Affair (1994)                                         |\n",
      "|469.0    |96    |5.419879  |Dumb & Dumber (1994)                                       |\n",
      "|863.0    |96    |5.40932   |Smile Like Yours, A (1997)                                 |\n",
      "|779.0    |96    |5.40678   |Die xue shuang xiong (Killer, The) (1989)                  |\n",
      "+---------+------+----------+-----------------------------------------------------------+\n",
      "only showing top 100 rows\n",
      "\n"
     ]
    }
   ],
   "source": [
    "movie_title = IndexToString(inputCol=\"New_Title\",outputCol=\"title\",labels=model.labels)\n",
    "final_recommendations=movie_title.transform(recommendations)\n",
    "final_recommendations.show(100,False)"
   ]
  },
  {
   "cell_type": "markdown",
   "metadata": {},
   "source": [
    "### Thats it guys\n",
    "### A simple collaborative filtering based recommender system in PySpark using the ALS method to recommend movies to the users\n",
    "\n",
    "### Bye"
   ]
  },
  {
   "cell_type": "code",
   "execution_count": 4,
   "metadata": {},
   "outputs": [],
   "source": [
    "from pyspark.sql import SparkSession\n",
    "spark = SparkSession \\\n",
    "    .builder \\\n",
    "    .appName(\"My First Spark App\")\n",
    "    .getOrCreate()"
   ]
  }
 ],
 "metadata": {
  "kernelspec": {
   "display_name": "Python 3 (ipykernel)",
   "language": "python",
   "name": "python3"
  },
  "language_info": {
   "codemirror_mode": {
    "name": "ipython",
    "version": 3
   },
   "file_extension": ".py",
   "mimetype": "text/x-python",
   "name": "python",
   "nbconvert_exporter": "python",
   "pygments_lexer": "ipython3",
   "version": "3.9.16"
  }
 },
 "nbformat": 4,
 "nbformat_minor": 2
}
