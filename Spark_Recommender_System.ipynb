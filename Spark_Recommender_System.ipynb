{
 "cells": [
  {
   "cell_type": "markdown",
   "metadata": {},
   "source": [
    "# A Recommender System Using >>Apache Spark 2.4\n",
    "### Predictive Analytics\n",
    "#### Licence:\n",
    "You can use this code for anything you may wish only leave this page:\n",
    "#### AS IS; HOW IS, WHERE IS"
   ]
  },
  {
   "cell_type": "code",
   "execution_count": 27,
   "metadata": {},
   "outputs": [],
   "source": [
    "import findspark\n",
    "findspark.init()\n",
    "from pyspark.sql import SparkSession\n",
    "spark = SparkSession.builder.appName('Recommender System').getOrCreate()"
   ]
  },
  {
   "cell_type": "markdown",
   "metadata": {},
   "source": [
    "### Reading the Dataset"
   ]
  },
  {
   "cell_type": "code",
   "execution_count": 29,
   "metadata": {},
   "outputs": [
    {
     "name": "stdout",
     "output_type": "stream",
     "text": [
      "+------+---------------+------+\n",
      "|userId|oil_gas_company|rating|\n",
      "+------+---------------+------+\n",
      "|   196|          Shell|     3|\n",
      "|    63|          Shell|     3|\n",
      "|   226|          Shell|     5|\n",
      "|   154|          Shell|     3|\n",
      "|   306|          Shell|     5|\n",
      "|   296|          Shell|     4|\n",
      "|    34|          Shell|     5|\n",
      "|   271|          Shell|     4|\n",
      "|   201|          Shell|     4|\n",
      "|   209|          Shell|     4|\n",
      "|    35|          Shell|     2|\n",
      "|   354|          Shell|     5|\n",
      "|   199|          Shell|     5|\n",
      "|   113|          Shell|     2|\n",
      "|     1|          Shell|     5|\n",
      "|   173|          Shell|     5|\n",
      "|   360|          Shell|     4|\n",
      "|   234|          Shell|     4|\n",
      "|    14|          Shell|     4|\n",
      "|   309|          Shell|     4|\n",
      "+------+---------------+------+\n",
      "only showing top 20 rows\n",
      "\n"
     ]
    }
   ],
   "source": [
    "df = spark.read.csv('./static/petrol_stations.csv', inferSchema=True, header=True)\n",
    "df.show() # Pulls the fist ten rows of the dataset"
   ]
  },
  {
   "cell_type": "markdown",
   "metadata": {},
   "source": [
    "### Data size in terms of rows and records"
   ]
  },
  {
   "cell_type": "code",
   "execution_count": 30,
   "metadata": {},
   "outputs": [
    {
     "name": "stdout",
     "output_type": "stream",
     "text": [
      "(5386, 3)\n"
     ]
    }
   ],
   "source": [
    "print((df.count(), len(df.columns)))"
   ]
  },
  {
   "cell_type": "markdown",
   "metadata": {},
   "source": [
    "Our Dataset contains 5386 records with only three columns"
   ]
  },
  {
   "cell_type": "markdown",
   "metadata": {},
   "source": [
    "Data Schema"
   ]
  },
  {
   "cell_type": "code",
   "execution_count": 31,
   "metadata": {},
   "outputs": [
    {
     "name": "stdout",
     "output_type": "stream",
     "text": [
      "root\n",
      " |-- userId: integer (nullable = true)\n",
      " |-- oil_gas_company: string (nullable = true)\n",
      " |-- rating: integer (nullable = true)\n",
      "\n"
     ]
    }
   ],
   "source": [
    "df.printSchema()"
   ]
  },
  {
   "cell_type": "markdown",
   "metadata": {},
   "source": [
    "#### Two of the columns are Numerical while oil_gas_company column is categorical"
   ]
  },
  {
   "cell_type": "markdown",
   "metadata": {},
   "source": [
    "#### Top users by number of companies rated"
   ]
  },
  {
   "cell_type": "code",
   "execution_count": 34,
   "metadata": {},
   "outputs": [
    {
     "name": "stdout",
     "output_type": "stream",
     "text": [
      "+------+-----+\n",
      "|userId|count|\n",
      "+------+-----+\n",
      "|276   |25   |\n",
      "|13    |24   |\n",
      "|378   |24   |\n",
      "|416   |24   |\n",
      "|94    |23   |\n",
      "|450   |22   |\n",
      "|655   |22   |\n",
      "|222   |22   |\n",
      "|796   |21   |\n",
      "|417   |21   |\n",
      "+------+-----+\n",
      "only showing top 10 rows\n",
      "\n"
     ]
    }
   ],
   "source": [
    "df.groupBy('userId').count().orderBy('count', ascending=False).show(10, False)"
   ]
  },
  {
   "cell_type": "markdown",
   "metadata": {},
   "source": [
    "#### Bottom users by number of companies rated"
   ]
  },
  {
   "cell_type": "code",
   "execution_count": 6,
   "metadata": {},
   "outputs": [
    {
     "name": "stdout",
     "output_type": "stream",
     "text": [
      "+------+-----+\n",
      "|userId|count|\n",
      "+------+-----+\n",
      "|723   |1    |\n",
      "|133   |1    |\n",
      "|688   |1    |\n",
      "|596   |1    |\n",
      "|853   |1    |\n",
      "|300   |1    |\n",
      "|787   |1    |\n",
      "|842   |1    |\n",
      "|587   |1    |\n",
      "|78    |1    |\n",
      "+------+-----+\n",
      "only showing top 10 rows\n",
      "\n"
     ]
    }
   ],
   "source": [
    "df.groupBy('userId').count().orderBy('count', ascending=True).show(10, False)"
   ]
  },
  {
   "cell_type": "markdown",
   "metadata": {},
   "source": [
    "## Feature Engineering"
   ]
  },
  {
   "cell_type": "code",
   "execution_count": 35,
   "metadata": {},
   "outputs": [],
   "source": [
    "from pyspark.sql.functions import *\n",
    "from pyspark.ml.feature import StringIndexer, IndexToString"
   ]
  },
  {
   "cell_type": "markdown",
   "metadata": {},
   "source": [
    "#### So now we create the stringindexer object by mentioning the input column and output column."
   ]
  },
  {
   "cell_type": "code",
   "execution_count": 38,
   "metadata": {},
   "outputs": [
    {
     "name": "stdout",
     "output_type": "stream",
     "text": [
      "+------+---------------+------+----------+\n",
      "|userId|oil_gas_company|rating|company_no|\n",
      "+------+---------------+------+----------+\n",
      "|196   |Shell          |3     |18.0      |\n",
      "|63    |Shell          |3     |18.0      |\n",
      "|226   |Shell          |5     |18.0      |\n",
      "|154   |Shell          |3     |18.0      |\n",
      "|306   |Shell          |5     |18.0      |\n",
      "|296   |Shell          |4     |18.0      |\n",
      "|34    |Shell          |5     |18.0      |\n",
      "|271   |Shell          |4     |18.0      |\n",
      "|201   |Shell          |4     |18.0      |\n",
      "|209   |Shell          |4     |18.0      |\n",
      "+------+---------------+------+----------+\n",
      "only showing top 10 rows\n",
      "\n"
     ]
    }
   ],
   "source": [
    "stringIndexer = StringIndexer(inputCol='oil_gas_company',outputCol='company_no')\n",
    "model = stringIndexer.fit(df)\n",
    "indexed = model.transform(df)\n",
    "indexed.show(10, False)"
   ]
  },
  {
   "cell_type": "code",
   "execution_count": 41,
   "metadata": {},
   "outputs": [
    {
     "name": "stdout",
     "output_type": "stream",
     "text": [
      "+------------------------+----------+-----+\n",
      "|oil_gas_company         |company_no|count|\n",
      "+------------------------+----------+-----+\n",
      "|Obama Oil               |0.0       |452  |\n",
      "|Pride of Libya          |1.0       |390  |\n",
      "|Nairobi Oil             |2.0       |365  |\n",
      "|National Oil of Naigeria|3.0       |303  |\n",
      "|Total                   |4.0       |297  |\n",
      "|Twister Oil             |5.0       |293  |\n",
      "|SA gas                  |6.0       |280  |\n",
      "|Arrow Gas               |7.0       |254  |\n",
      "|Oil Ghana               |8.0       |243  |\n",
      "|Rubis                   |9.0       |227  |\n",
      "+------------------------+----------+-----+\n",
      "only showing top 10 rows\n",
      "\n",
      "+----------+-----+\n",
      "|company_no|count|\n",
      "+----------+-----+\n",
      "|0.0       |452  |\n",
      "|1.0       |390  |\n",
      "|2.0       |365  |\n",
      "|3.0       |303  |\n",
      "|4.0       |297  |\n",
      "|5.0       |293  |\n",
      "|6.0       |280  |\n",
      "|7.0       |254  |\n",
      "|8.0       |243  |\n",
      "|9.0       |227  |\n",
      "+----------+-----+\n",
      "only showing top 10 rows\n",
      "\n",
      "None None\n"
     ]
    }
   ],
   "source": [
    "print (indexed.groupBy('oil_gas_company','company_no').count().orderBy('count',ascending=False).show(10,False),\n",
    "       indexed.groupBy('company_no').count().orderBy('count',ascending=False).show(10,False))"
   ]
  },
  {
   "cell_type": "markdown",
   "metadata": {},
   "source": [
    "## Spliting The Data Set\n",
    "We split it into a 80 to 20 ratio to train the model and test its accuracy"
   ]
  },
  {
   "cell_type": "code",
   "execution_count": 42,
   "metadata": {},
   "outputs": [
    {
     "name": "stdout",
     "output_type": "stream",
     "text": [
      "Training set 4266\n",
      "Testing set 1120\n"
     ]
    }
   ],
   "source": [
    "train,test=indexed.randomSplit([0.8,0.2])\n",
    "print(\"Training set\", train.count())\n",
    "print(\"Testing set\", test.count())"
   ]
  },
  {
   "cell_type": "markdown",
   "metadata": {},
   "source": [
    "##  Building and Training the Model"
   ]
  },
  {
   "cell_type": "code",
   "execution_count": 43,
   "metadata": {},
   "outputs": [],
   "source": [
    "from pyspark.ml.recommendation import ALS\n",
    "rec=ALS(maxIter=10,regParam=0.01,userCol='userId',itemCol='company_no',ratingCol='rating',nonnegative=True)\n",
    "rec_model = rec.fit(train)"
   ]
  },
  {
   "cell_type": "markdown",
   "metadata": {},
   "source": [
    "### Performance evaluation on our test data\n",
    "Here we will chack the performance of our model on unseen data."
   ]
  },
  {
   "cell_type": "code",
   "execution_count": 44,
   "metadata": {},
   "outputs": [
    {
     "name": "stdout",
     "output_type": "stream",
     "text": [
      "root\n",
      " |-- userId: integer (nullable = true)\n",
      " |-- oil_gas_company: string (nullable = true)\n",
      " |-- rating: integer (nullable = true)\n",
      " |-- company_no: double (nullable = false)\n",
      " |-- prediction: float (nullable = false)\n",
      "\n"
     ]
    }
   ],
   "source": [
    "predict_ratings = rec_model.transform(test)\n",
    "predict_ratings.printSchema()"
   ]
  },
  {
   "cell_type": "code",
   "execution_count": 45,
   "metadata": {},
   "outputs": [
    {
     "name": "stdout",
     "output_type": "stream",
     "text": [
      "+------+---------------+------+----------+----------+\n",
      "|userId|oil_gas_company|rating|company_no|prediction|\n",
      "+------+---------------+------+----------+----------+\n",
      "|   325|   Bluevale gas|     3|      28.0| 2.2565808|\n",
      "|   429|   Bluevale gas|     3|      28.0| 2.2462227|\n",
      "|   881|   Bluevale gas|     3|      28.0|  1.980818|\n",
      "|   268|   Bluevale gas|     3|      28.0| 4.4477963|\n",
      "|    38|   Bluevale gas|     5|      28.0| 0.9500026|\n",
      "|   200|   Bluevale gas|     4|      28.0|  3.492417|\n",
      "|   487|   Bluevale gas|     3|      28.0| 5.2712016|\n",
      "|   731|    Sabrina gas|     4|      26.0|  2.112349|\n",
      "|   280|    Sabrina gas|     5|      26.0|  4.223317|\n",
      "|   340|    Sabrina gas|     4|      26.0| 5.8385525|\n",
      "+------+---------------+------+----------+----------+\n",
      "only showing top 10 rows\n",
      "\n"
     ]
    }
   ],
   "source": [
    "predict_ratings.show(10)"
   ]
  },
  {
   "cell_type": "code",
   "execution_count": 46,
   "metadata": {},
   "outputs": [
    {
     "name": "stdout",
     "output_type": "stream",
     "text": [
      "nan\n"
     ]
    }
   ],
   "source": [
    "from pyspark.ml.evaluation import RegressionEvaluator\n",
    "evaluator = RegressionEvaluator(metricName = 'rmse', predictionCol = 'prediction', labelCol = 'rating')\n",
    "rmse = evaluator.evaluate(predict_ratings)\n",
    "print(rmse)"
   ]
  },
  {
   "cell_type": "markdown",
   "metadata": {},
   "source": [
    "##### The rmse is non we can equate this to zero meaning there is no error."
   ]
  },
  {
   "cell_type": "markdown",
   "metadata": {},
   "source": [
    "### Recommend Top Petrol Stations That Active User Might Like\n",
    "The first step is to create a list of unique companies in the dataframe."
   ]
  },
  {
   "cell_type": "code",
   "execution_count": 47,
   "metadata": {},
   "outputs": [
    {
     "data": {
      "text/plain": [
       "31"
      ]
     },
     "execution_count": 47,
     "metadata": {},
     "output_type": "execute_result"
    }
   ],
   "source": [
    "unique_company=indexed.select('company_no').distinct()\n",
    "unique_company.count() ## Total numbe rof individual companies in our new dataframe"
   ]
  },
  {
   "cell_type": "code",
   "execution_count": 48,
   "metadata": {},
   "outputs": [],
   "source": [
    "a = unique_company.alias('a')"
   ]
  },
  {
   "cell_type": "markdown",
   "metadata": {},
   "source": [
    "#### We can select any user within the dataset for which we need to recommend other petrol station. In our case, we go ahead with userId = 96."
   ]
  },
  {
   "cell_type": "markdown",
   "metadata": {},
   "source": [
    "#### We will filter the movies that this active user has already rated or seen."
   ]
  },
  {
   "cell_type": "code",
   "execution_count": 49,
   "metadata": {},
   "outputs": [
    {
     "data": {
      "text/plain": [
       "7"
      ]
     },
     "execution_count": 49,
     "metadata": {},
     "output_type": "execute_result"
    }
   ],
   "source": [
    "user_id=96\n",
    "rated_companies=indexed.filter(indexed['userId'] == user_id).select('company_no').distinct()\n",
    "rated_companies.count() # Number of companies the user has rated"
   ]
  },
  {
   "cell_type": "code",
   "execution_count": 20,
   "metadata": {},
   "outputs": [],
   "source": [
    "b=rated_companies.alias('b')"
   ]
  },
  {
   "cell_type": "markdown",
   "metadata": {},
   "source": [
    "#### So, there are total of 7 unique companies that this active user has already rated. So, we would want to recommend new petrol stations from the remaining sets"
   ]
  },
  {
   "cell_type": "code",
   "execution_count": 21,
   "metadata": {},
   "outputs": [
    {
     "name": "stdout",
     "output_type": "stream",
     "text": [
      "+----------+----------+\n",
      "|company_no|company_no|\n",
      "+----------+----------+\n",
      "|       8.0|       8.0|\n",
      "|       0.0|       0.0|\n",
      "|       7.0|      null|\n",
      "|      29.0|      null|\n",
      "|      18.0|      null|\n",
      "|       1.0|       1.0|\n",
      "|      25.0|      null|\n",
      "|       4.0|      null|\n",
      "|      23.0|      null|\n",
      "|      11.0|      11.0|\n",
      "|      21.0|      null|\n",
      "|      14.0|      null|\n",
      "|      22.0|      null|\n",
      "|       3.0|      null|\n",
      "|      19.0|      null|\n",
      "|      28.0|      null|\n",
      "|       2.0|      null|\n",
      "|      17.0|      null|\n",
      "|      27.0|      null|\n",
      "|      10.0|      null|\n",
      "+----------+----------+\n",
      "only showing top 20 rows\n",
      "\n"
     ]
    }
   ],
   "source": [
    "total_companies = a.join(b, a.company_no == b.company_no,how='left')\n",
    "total_companies.show()"
   ]
  },
  {
   "cell_type": "code",
   "execution_count": 22,
   "metadata": {},
   "outputs": [
    {
     "data": {
      "text/plain": [
       "24"
      ]
     },
     "execution_count": 22,
     "metadata": {},
     "output_type": "execute_result"
    }
   ],
   "source": [
    "remaining_companies=total_companies.where(col(\"b.company_no\").isNull()).select(a.company_no).distinct()\n",
    "remaining_companies.count()"
   ]
  },
  {
   "cell_type": "code",
   "execution_count": 23,
   "metadata": {},
   "outputs": [
    {
     "name": "stdout",
     "output_type": "stream",
     "text": [
      "+----------+------+\n",
      "|company_no|userId|\n",
      "+----------+------+\n",
      "|7.0       |96    |\n",
      "|29.0      |96    |\n",
      "|18.0      |96    |\n",
      "|25.0      |96    |\n",
      "|4.0       |96    |\n",
      "|23.0      |96    |\n",
      "|21.0      |96    |\n",
      "|14.0      |96    |\n",
      "|22.0      |96    |\n",
      "|3.0       |96    |\n",
      "+----------+------+\n",
      "only showing top 10 rows\n",
      "\n"
     ]
    }
   ],
   "source": [
    "remaining_companies=remaining_companies.withColumn(\"userId\",lit(int(user_id)))\n",
    "remaining_companies.show(10, False)"
   ]
  },
  {
   "cell_type": "markdown",
   "metadata": {},
   "source": [
    "### Finally, we can now make the predictions on this remaining companies dataset for the active user using the recommender model that we built earlier. We filter only a few top recommendations that have the highest predicted ratings."
   ]
  },
  {
   "cell_type": "code",
   "execution_count": 25,
   "metadata": {},
   "outputs": [
    {
     "name": "stdout",
     "output_type": "stream",
     "text": [
      "+----------+------+----------+\n",
      "|company_no|userId|prediction|\n",
      "+----------+------+----------+\n",
      "|14.0      |96    |4.1148977 |\n",
      "|18.0      |96    |3.9837985 |\n",
      "|25.0      |96    |3.7704606 |\n",
      "|2.0       |96    |3.711454  |\n",
      "|24.0      |96    |3.5146418 |\n",
      "|4.0       |96    |3.2447567 |\n",
      "|21.0      |96    |3.2100048 |\n",
      "|17.0      |96    |2.9156313 |\n",
      "|12.0      |96    |2.6432858 |\n",
      "|3.0       |96    |2.575119  |\n",
      "|15.0      |96    |2.512583  |\n",
      "|28.0      |96    |2.3847785 |\n",
      "|16.0      |96    |2.3674417 |\n",
      "|10.0      |96    |2.3335602 |\n",
      "|13.0      |96    |2.328898  |\n",
      "|5.0       |96    |2.265682  |\n",
      "|29.0      |96    |2.19795   |\n",
      "|20.0      |96    |1.9376147 |\n",
      "|7.0       |96    |1.9060937 |\n",
      "|23.0      |96    |1.7991966 |\n",
      "|30.0      |96    |1.719182  |\n",
      "|27.0      |96    |1.5071282 |\n",
      "|22.0      |96    |1.415078  |\n",
      "|19.0      |96    |1.317497  |\n",
      "+----------+------+----------+\n",
      "\n"
     ]
    }
   ],
   "source": [
    "recommendations = rec_model.transform(remaining_companies).orderBy('prediction', ascending = False)\n",
    "recommendations.show(100, False)"
   ]
  },
  {
   "cell_type": "markdown",
   "metadata": {},
   "source": [
    "### Let us add the company names to the recommendations"
   ]
  },
  {
   "cell_type": "code",
   "execution_count": 26,
   "metadata": {},
   "outputs": [
    {
     "name": "stdout",
     "output_type": "stream",
     "text": [
      "+----------+------+----------+------------------------+\n",
      "|company_no|userId|prediction|oil_gas_company         |\n",
      "+----------+------+----------+------------------------+\n",
      "|14.0      |96    |4.1148977 |Abuja gas               |\n",
      "|18.0      |96    |3.9837985 |Shell                   |\n",
      "|25.0      |96    |3.7704606 |Pro gas                 |\n",
      "|2.0       |96    |3.711454  |Nairobi Oil             |\n",
      "|24.0      |96    |3.5146418 |Amani gas               |\n",
      "|4.0       |96    |3.2447567 |Total                   |\n",
      "|21.0      |96    |3.2100048 |Oillibya                |\n",
      "|17.0      |96    |2.9156313 |Sahara Pride            |\n",
      "|12.0      |96    |2.6432858 |K gas                   |\n",
      "|3.0       |96    |2.575119  |National Oil of Naigeria|\n",
      "|15.0      |96    |2.512583  |Abuja Oil               |\n",
      "|28.0      |96    |2.3847785 |Bluevale gas            |\n",
      "|16.0      |96    |2.3674417 |Vivo                    |\n",
      "|10.0      |96    |2.3335602 |Dangote Gas             |\n",
      "|13.0      |96    |2.328898  |Oil Uganda              |\n",
      "|5.0       |96    |2.265682  |Twister Oil             |\n",
      "|29.0      |96    |2.19795   |Pwani Oil               |\n",
      "|20.0      |96    |1.9376147 |National Oil of Kenya   |\n",
      "|7.0       |96    |1.9060937 |Arrow Gas               |\n",
      "|23.0      |96    |1.7991966 |Nyerere gas             |\n",
      "|30.0      |96    |1.719182  |Taifa gas               |\n",
      "|27.0      |96    |1.5071282 |Vpower                  |\n",
      "|22.0      |96    |1.415078  |Lake Oil                |\n",
      "|19.0      |96    |1.317497  |Vpower Mombasa          |\n",
      "+----------+------+----------+------------------------+\n",
      "\n"
     ]
    }
   ],
   "source": [
    "company_name = IndexToString(inputCol=\"company_no\",outputCol=\"oil_gas_company\",labels=model.labels)\n",
    "final_recommendations=company_name.transform(recommendations)\n",
    "final_recommendations.show(100,False)"
   ]
  },
  {
   "cell_type": "markdown",
   "metadata": {},
   "source": [
    "### Thats it guys\n",
    "### A simple collaborative filtering based recommender system in PySpark using the ALS method to recommend gas stations to the users"
   ]
  },
  {
   "cell_type": "code",
   "execution_count": null,
   "metadata": {},
   "outputs": [],
   "source": []
  }
 ],
 "metadata": {
  "kernelspec": {
   "display_name": "Python 3 (ipykernel)",
   "language": "python",
   "name": "python3"
  },
  "language_info": {
   "codemirror_mode": {
    "name": "ipython",
    "version": 3
   },
   "file_extension": ".py",
   "mimetype": "text/x-python",
   "name": "python",
   "nbconvert_exporter": "python",
   "pygments_lexer": "ipython3",
   "version": "3.9.7"
  }
 },
 "nbformat": 4,
 "nbformat_minor": 2
}
